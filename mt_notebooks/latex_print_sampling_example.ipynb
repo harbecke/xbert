{
 "cells": [
  {
   "cell_type": "code",
   "execution_count": null,
   "metadata": {
    "pycharm": {
     "name": "#%%\n"
    }
   },
   "outputs": [],
   "source": [
    "%load_ext autoreload\n",
    "%autoreload 2"
   ]
  },
  {
   "cell_type": "code",
   "execution_count": 1,
   "metadata": {},
   "outputs": [],
   "source": [
    "import sys\n",
    "import os\n",
    "import dill\n",
    "\n",
    "sys.path.append(\"../\")"
   ]
  },
  {
   "cell_type": "code",
   "execution_count": 2,
   "metadata": {},
   "outputs": [],
   "source": [
    "from mt_codebase.latex_util import processed_list_to_latex_table\n",
    "from mt_codebase.sampling_examples import (create_candidate_dicts, filter_and_sort_candidates,\n",
    "                                            processed_candidates_dict_to_list)"
   ]
  },
  {
   "cell_type": "code",
   "execution_count": 4,
   "metadata": {},
   "outputs": [],
   "source": [
    "results_dir = \"../results/sst2/resampling/\"\n",
    "index = 667"
   ]
  },
  {
   "cell_type": "code",
   "execution_count": 5,
   "metadata": {},
   "outputs": [],
   "source": [
    "with open(os.path.join(results_dir, \"candidate_instances.pkl\"), \"rb\") as in_f:\n",
    "    candidate_instances, candidate_results = dill.load(in_f)\n",
    "instances_dict, candidates_dict = create_candidate_dicts(candidate_instances, candidate_results)\n",
    "filter_and_sort_candidates(candidates_dict[index])\n",
    "candidates_list = processed_candidates_dict_to_list(candidates_dict[index])"
   ]
  },
  {
   "cell_type": "code",
   "execution_count": 6,
   "metadata": {},
   "outputs": [
    {
     "name": "stdout",
     "output_type": "stream",
     "text": [
      "good & looking & , & but & not & bad & . \\\\\n",
      "(34, 0.98) & (11, 0.96) & (84, 0.98) & (87, 0.98) & (22, 1) & (26, 0.003) & (100, 0.98) \\\\ \\hline\n",
      "nice & news & art & and & still & short &   \\\\\n",
      "(10, 0.46) & (5, 0.018) & (2, 0.79) & (3, 1) & (10, 0.87) & (11, 1) &   \\\\ \\hline\n",
      "great & idea & quality & not & very & old &   \\\\\n",
      "(3, 0.41) & (4, 0.0011) & (2, 1) & (2, 1) & (10, 0.98) & (5, 1) &   \\\\ \\hline\n",
      "fine & taste &   & though & also & thin &   \\\\\n",
      "(3, 0.27) & (4, 0.94) &   & (2, 1) & (6, 1) & (5, 1) &   \\\\ \\hline\n",
      "classic & morning &   &   & too & dull &   \\\\\n",
      "(3, 0.93) & (3, 0.0064) &   &   & (5, 1) & (5, 0.058) &   \\\\ \\hline\n",
      "interesting & try &   &   & always & slow &   \\\\\n",
      "(3, 0.085) & (3, 0.0026) &   &   & (4, 0.89) & (3, 1) &   \\\\ \\hline\n",
      "lovely & job &   &   & never & boring &   \\\\\n",
      "(3, 0.99) & (3, 0.99) &   &   & (3, 1) & (3, 0.0059) &   \\\\ \\hline\n",
      "strong & work &   &   & sometimes & small &   \\\\\n",
      "(2, 1) & (2, 0.99) &   &   & (2, 1) & (2, 1) &   \\\\ \\hline\n",
      "bad & thing &   &   & quite & dark &   \\\\\n",
      "(2, 8e-05) & (2, 0.0041) &   &   & (2, 0.98) & (2, 1) &   \\\\ \\hline\n",
      "fun & plan &   &   & slightly & expensive &   \\\\\n",
      "(2, 0.87) & (2, 0.0017) &   &   & (2, 1) & (2, 1) &   \\\\ \\hline\n",
      "funny & lord &   &   & damn &   &   \\\\\n",
      "(2, 0.55) & (2, 0.007) &   &   & (2, 0.018) &   &   \\\\ \\hline\n",
      "excellent & question &   &   &   &   &   \\\\\n",
      "(2, 0.88) & (2, 0.0012) &   &   &   &   &   \\\\ \\hline\n",
      "wonderful & walk &   &   &   &   &   \\\\\n",
      "(2, 0.93) & (2, 0.22) &   &   &   &   &   \\\\ \\hline\n",
      "decent & answer &   &   &   &   &   \\\\\n",
      "(2, 0.48) & (2, 0.011) &   &   &   &   &   \\\\ \\hline\n",
      "scary & thoughts &   &   &   &   &   \\\\\n",
      "(2, 0.001) & (2, 0.07) &   &   &   &   &   \\\\ \\hline\n",
      "  & advice &   &   &   &   &   \\\\\n",
      "  & (2, 0.0052) &   &   &   &   &   \\\\ \\hline\n",
      "  & mood &   &   &   &   &   \\\\\n",
      "  & (2, 0.99) &   &   &   &   &   \\\\ \\hline\n",
      "  & timing &   &   &   &   &   \\\\\n",
      "  & (2, 0.2) &   &   &   &   &  \n"
     ]
    }
   ],
   "source": [
    "print(processed_list_to_latex_table(candidates_list))"
   ]
  }
 ],
 "metadata": {
  "kernelspec": {
   "display_name": "Python [conda env:xbert]",
   "language": "python",
   "name": "conda-env-xbert-py"
  },
  "language_info": {
   "codemirror_mode": {
    "name": "ipython",
    "version": 3
   },
   "file_extension": ".py",
   "mimetype": "text/x-python",
   "name": "python",
   "nbconvert_exporter": "python",
   "pygments_lexer": "ipython3",
   "version": "3.7.7"
  }
 },
 "nbformat": 4,
 "nbformat_minor": 4
}
