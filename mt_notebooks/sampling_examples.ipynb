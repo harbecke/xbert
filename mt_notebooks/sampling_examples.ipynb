{
 "cells": [
  {
   "cell_type": "code",
   "execution_count": 1,
   "metadata": {},
   "outputs": [],
   "source": [
    "%load_ext autoreload\n",
    "%autoreload 2"
   ]
  },
  {
   "cell_type": "code",
   "execution_count": 2,
   "metadata": {},
   "outputs": [],
   "source": [
    "import sys\n",
    "sys.path.append(\"../\")\n",
    "sys.path.append(\"../experiments/\")"
   ]
  },
  {
   "cell_type": "code",
   "execution_count": 3,
   "metadata": {},
   "outputs": [],
   "source": [
    "import os\n",
    "from pathlib import Path\n",
    "\n",
    "import dill"
   ]
  },
  {
   "cell_type": "code",
   "execution_count": 4,
   "metadata": {},
   "outputs": [],
   "source": [
    "RESULTS_DIR = \"../results/\"\n",
    "DATASET_DIR = \"../data/glue_data/\"\n",
    "\n",
    "STRATEGY_NAME_MAPPING = {\n",
    "    \"resampling\": \"OLM\"\n",
    "}"
   ]
  },
  {
   "cell_type": "code",
   "execution_count": 5,
   "metadata": {},
   "outputs": [],
   "source": [
    "SST2_RESULTS_PATH = os.path.join(RESULTS_DIR, \"sst2\")\n",
    "SST2_DATA_PATH = os.path.join(DATASET_DIR, \"SST-2/dev.tsv\")"
   ]
  },
  {
   "cell_type": "code",
   "execution_count": 6,
   "metadata": {},
   "outputs": [],
   "source": [
    "def experiment_load_candidates(experiment_dir: str, candidates_filename: str, instance_id: int):\n",
    "    path = Path(experiment_dir)\n",
    "    \n",
    "    candidate_instances = {}\n",
    "    with open(os.path.join(path, candidates_filename), \"rb\") as f:\n",
    "        candidates = dill.load(f)\n",
    "    \n",
    "    return [(instance, '%.2g'%score) for (instance, score) in zip(candidates[0], candidates[1]) if instance.id == instance_id and instance.weight>1]"
   ]
  },
  {
   "cell_type": "code",
   "execution_count": 7,
   "metadata": {},
   "outputs": [],
   "source": [
    "sst2_experiment_candidates = experiment_load_candidates(SST2_RESULTS_PATH, \"resampling/candidate_instances.pkl\", 667)"
   ]
  },
  {
   "cell_type": "code",
   "execution_count": 8,
   "metadata": {},
   "outputs": [
    {
     "data": {
      "text/plain": [
       "[(OccludedInstance(id=667, token_fields={'sent': OccludedTokenField(['good', 'film', ',', 'but', 'very', 'glum', '.'])}), weight=34.0),\n",
       "  '0.98'),\n",
       " (OccludedInstance(id=667, token_fields={'sent': OccludedTokenField(['great', 'film', ',', 'but', 'very', 'glum', '.'])}), weight=3.0),\n",
       "  '0.41'),\n",
       " (OccludedInstance(id=667, token_fields={'sent': OccludedTokenField(['strong', 'film', ',', 'but', 'very', 'glum', '.'])}), weight=2.0),\n",
       "  '1'),\n",
       " (OccludedInstance(id=667, token_fields={'sent': OccludedTokenField(['bad', 'film', ',', 'but', 'very', 'glum', '.'])}), weight=2.0),\n",
       "  '8e-05'),\n",
       " (OccludedInstance(id=667, token_fields={'sent': OccludedTokenField(['fine', 'film', ',', 'but', 'very', 'glum', '.'])}), weight=3.0),\n",
       "  '0.27'),\n",
       " (OccludedInstance(id=667, token_fields={'sent': OccludedTokenField(['nice', 'film', ',', 'but', 'very', 'glum', '.'])}), weight=10.0),\n",
       "  '0.46'),\n",
       " (OccludedInstance(id=667, token_fields={'sent': OccludedTokenField(['classic', 'film', ',', 'but', 'very', 'glum', '.'])}), weight=3.0),\n",
       "  '0.93'),\n",
       " (OccludedInstance(id=667, token_fields={'sent': OccludedTokenField(['fun', 'film', ',', 'but', 'very', 'glum', '.'])}), weight=2.0),\n",
       "  '0.87'),\n",
       " (OccludedInstance(id=667, token_fields={'sent': OccludedTokenField(['interesting', 'film', ',', 'but', 'very', 'glum', '.'])}), weight=3.0),\n",
       "  '0.085'),\n",
       " (OccludedInstance(id=667, token_fields={'sent': OccludedTokenField(['funny', 'film', ',', 'but', 'very', 'glum', '.'])}), weight=2.0),\n",
       "  '0.55'),\n",
       " (OccludedInstance(id=667, token_fields={'sent': OccludedTokenField(['excellent', 'film', ',', 'but', 'very', 'glum', '.'])}), weight=2.0),\n",
       "  '0.88'),\n",
       " (OccludedInstance(id=667, token_fields={'sent': OccludedTokenField(['wonderful', 'film', ',', 'but', 'very', 'glum', '.'])}), weight=2.0),\n",
       "  '0.93'),\n",
       " (OccludedInstance(id=667, token_fields={'sent': OccludedTokenField(['lovely', 'film', ',', 'but', 'very', 'glum', '.'])}), weight=3.0),\n",
       "  '0.99'),\n",
       " (OccludedInstance(id=667, token_fields={'sent': OccludedTokenField(['decent', 'film', ',', 'but', 'very', 'glum', '.'])}), weight=2.0),\n",
       "  '0.48'),\n",
       " (OccludedInstance(id=667, token_fields={'sent': OccludedTokenField(['scary', 'film', ',', 'but', 'very', 'glum', '.'])}), weight=2.0),\n",
       "  '0.001'),\n",
       " (OccludedInstance(id=667, token_fields={'sent': OccludedTokenField(['good', 'work', ',', 'but', 'very', 'glum', '.'])}), weight=2.0),\n",
       "  '0.99'),\n",
       " (OccludedInstance(id=667, token_fields={'sent': OccludedTokenField(['good', 'thing', ',', 'but', 'very', 'glum', '.'])}), weight=2.0),\n",
       "  '0.0041'),\n",
       " (OccludedInstance(id=667, token_fields={'sent': OccludedTokenField(['good', 'looking', ',', 'but', 'very', 'glum', '.'])}), weight=11.0),\n",
       "  '0.96'),\n",
       " (OccludedInstance(id=667, token_fields={'sent': OccludedTokenField(['good', 'news', ',', 'but', 'very', 'glum', '.'])}), weight=5.0),\n",
       "  '0.018'),\n",
       " (OccludedInstance(id=667, token_fields={'sent': OccludedTokenField(['good', 'idea', ',', 'but', 'very', 'glum', '.'])}), weight=4.0),\n",
       "  '0.0011'),\n",
       " (OccludedInstance(id=667, token_fields={'sent': OccludedTokenField(['good', 'morning', ',', 'but', 'very', 'glum', '.'])}), weight=3.0),\n",
       "  '0.0064'),\n",
       " (OccludedInstance(id=667, token_fields={'sent': OccludedTokenField(['good', 'plan', ',', 'but', 'very', 'glum', '.'])}), weight=2.0),\n",
       "  '0.0017'),\n",
       " (OccludedInstance(id=667, token_fields={'sent': OccludedTokenField(['good', 'lord', ',', 'but', 'very', 'glum', '.'])}), weight=2.0),\n",
       "  '0.007'),\n",
       " (OccludedInstance(id=667, token_fields={'sent': OccludedTokenField(['good', 'try', ',', 'but', 'very', 'glum', '.'])}), weight=3.0),\n",
       "  '0.0026'),\n",
       " (OccludedInstance(id=667, token_fields={'sent': OccludedTokenField(['good', 'job', ',', 'but', 'very', 'glum', '.'])}), weight=3.0),\n",
       "  '0.99'),\n",
       " (OccludedInstance(id=667, token_fields={'sent': OccludedTokenField(['good', 'question', ',', 'but', 'very', 'glum', '.'])}), weight=2.0),\n",
       "  '0.0012'),\n",
       " (OccludedInstance(id=667, token_fields={'sent': OccludedTokenField(['good', 'walk', ',', 'but', 'very', 'glum', '.'])}), weight=2.0),\n",
       "  '0.22'),\n",
       " (OccludedInstance(id=667, token_fields={'sent': OccludedTokenField(['good', 'answer', ',', 'but', 'very', 'glum', '.'])}), weight=2.0),\n",
       "  '0.011'),\n",
       " (OccludedInstance(id=667, token_fields={'sent': OccludedTokenField(['good', 'thoughts', ',', 'but', 'very', 'glum', '.'])}), weight=2.0),\n",
       "  '0.07'),\n",
       " (OccludedInstance(id=667, token_fields={'sent': OccludedTokenField(['good', 'taste', ',', 'but', 'very', 'glum', '.'])}), weight=4.0),\n",
       "  '0.94'),\n",
       " (OccludedInstance(id=667, token_fields={'sent': OccludedTokenField(['good', 'advice', ',', 'but', 'very', 'glum', '.'])}), weight=2.0),\n",
       "  '0.0052'),\n",
       " (OccludedInstance(id=667, token_fields={'sent': OccludedTokenField(['good', 'mood', ',', 'but', 'very', 'glum', '.'])}), weight=2.0),\n",
       "  '0.99'),\n",
       " (OccludedInstance(id=667, token_fields={'sent': OccludedTokenField(['good', 'timing', ',', 'but', 'very', 'glum', '.'])}), weight=2.0),\n",
       "  '0.2'),\n",
       " (OccludedInstance(id=667, token_fields={'sent': OccludedTokenField(['good', 'film', ',', 'but', 'very', 'glum', '.'])}), weight=84.0),\n",
       "  '0.98'),\n",
       " (OccludedInstance(id=667, token_fields={'sent': OccludedTokenField(['good', 'film', 'art', 'but', 'very', 'glum', '.'])}), weight=2.0),\n",
       "  '0.79'),\n",
       " (OccludedInstance(id=667, token_fields={'sent': OccludedTokenField(['good', 'film', 'quality', 'but', 'very', 'glum', '.'])}), weight=2.0),\n",
       "  '1'),\n",
       " (OccludedInstance(id=667, token_fields={'sent': OccludedTokenField(['good', 'film', ',', 'and', 'very', 'glum', '.'])}), weight=3.0),\n",
       "  '1'),\n",
       " (OccludedInstance(id=667, token_fields={'sent': OccludedTokenField(['good', 'film', ',', 'but', 'very', 'glum', '.'])}), weight=87.0),\n",
       "  '0.98'),\n",
       " (OccludedInstance(id=667, token_fields={'sent': OccludedTokenField(['good', 'film', ',', 'not', 'very', 'glum', '.'])}), weight=2.0),\n",
       "  '1'),\n",
       " (OccludedInstance(id=667, token_fields={'sent': OccludedTokenField(['good', 'film', ',', 'though', 'very', 'glum', '.'])}), weight=2.0),\n",
       "  '1'),\n",
       " (OccludedInstance(id=667, token_fields={'sent': OccludedTokenField(['good', 'film', ',', 'but', 'not', 'glum', '.'])}), weight=22.0),\n",
       "  '1'),\n",
       " (OccludedInstance(id=667, token_fields={'sent': OccludedTokenField(['good', 'film', ',', 'but', 'also', 'glum', '.'])}), weight=6.0),\n",
       "  '1'),\n",
       " (OccludedInstance(id=667, token_fields={'sent': OccludedTokenField(['good', 'film', ',', 'but', 'still', 'glum', '.'])}), weight=10.0),\n",
       "  '0.87'),\n",
       " (OccludedInstance(id=667, token_fields={'sent': OccludedTokenField(['good', 'film', ',', 'but', 'never', 'glum', '.'])}), weight=3.0),\n",
       "  '1'),\n",
       " (OccludedInstance(id=667, token_fields={'sent': OccludedTokenField(['good', 'film', ',', 'but', 'very', 'glum', '.'])}), weight=10.0),\n",
       "  '0.98'),\n",
       " (OccludedInstance(id=667, token_fields={'sent': OccludedTokenField(['good', 'film', ',', 'but', 'too', 'glum', '.'])}), weight=5.0),\n",
       "  '1'),\n",
       " (OccludedInstance(id=667, token_fields={'sent': OccludedTokenField(['good', 'film', ',', 'but', 'always', 'glum', '.'])}), weight=4.0),\n",
       "  '0.89'),\n",
       " (OccludedInstance(id=667, token_fields={'sent': OccludedTokenField(['good', 'film', ',', 'but', 'sometimes', 'glum', '.'])}), weight=2.0),\n",
       "  '1'),\n",
       " (OccludedInstance(id=667, token_fields={'sent': OccludedTokenField(['good', 'film', ',', 'but', 'quite', 'glum', '.'])}), weight=2.0),\n",
       "  '0.98'),\n",
       " (OccludedInstance(id=667, token_fields={'sent': OccludedTokenField(['good', 'film', ',', 'but', 'slightly', 'glum', '.'])}), weight=2.0),\n",
       "  '1'),\n",
       " (OccludedInstance(id=667, token_fields={'sent': OccludedTokenField(['good', 'film', ',', 'but', 'damn', 'glum', '.'])}), weight=2.0),\n",
       "  '0.018'),\n",
       " (OccludedInstance(id=667, token_fields={'sent': OccludedTokenField(['good', 'film', ',', 'but', 'very', 'old', '.'])}), weight=5.0),\n",
       "  '1'),\n",
       " (OccludedInstance(id=667, token_fields={'sent': OccludedTokenField(['good', 'film', ',', 'but', 'very', 'small', '.'])}), weight=2.0),\n",
       "  '1'),\n",
       " (OccludedInstance(id=667, token_fields={'sent': OccludedTokenField(['good', 'film', ',', 'but', 'very', 'short', '.'])}), weight=11.0),\n",
       "  '1'),\n",
       " (OccludedInstance(id=667, token_fields={'sent': OccludedTokenField(['good', 'film', ',', 'but', 'very', 'dark', '.'])}), weight=2.0),\n",
       "  '1'),\n",
       " (OccludedInstance(id=667, token_fields={'sent': OccludedTokenField(['good', 'film', ',', 'but', 'very', 'bad', '.'])}), weight=26.0),\n",
       "  '0.003'),\n",
       " (OccludedInstance(id=667, token_fields={'sent': OccludedTokenField(['good', 'film', ',', 'but', 'very', 'slow', '.'])}), weight=3.0),\n",
       "  '1'),\n",
       " (OccludedInstance(id=667, token_fields={'sent': OccludedTokenField(['good', 'film', ',', 'but', 'very', 'thin', '.'])}), weight=5.0),\n",
       "  '1'),\n",
       " (OccludedInstance(id=667, token_fields={'sent': OccludedTokenField(['good', 'film', ',', 'but', 'very', 'expensive', '.'])}), weight=2.0),\n",
       "  '1'),\n",
       " (OccludedInstance(id=667, token_fields={'sent': OccludedTokenField(['good', 'film', ',', 'but', 'very', 'dull', '.'])}), weight=5.0),\n",
       "  '0.058'),\n",
       " (OccludedInstance(id=667, token_fields={'sent': OccludedTokenField(['good', 'film', ',', 'but', 'very', 'boring', '.'])}), weight=3.0),\n",
       "  '0.0059'),\n",
       " (OccludedInstance(id=667, token_fields={'sent': OccludedTokenField(['good', 'film', ',', 'but', 'very', 'glum', '.'])}), weight=100.0),\n",
       "  '0.98')]"
      ]
     },
     "execution_count": 8,
     "metadata": {},
     "output_type": "execute_result"
    }
   ],
   "source": [
    "sst2_experiment_candidates"
   ]
  }
 ],
 "metadata": {
  "kernelspec": {
   "display_name": "Python [conda env:occlusion]",
   "language": "python",
   "name": "conda-env-occlusion-py"
  },
  "language_info": {
   "codemirror_mode": {
    "name": "ipython",
    "version": 3
   },
   "file_extension": ".py",
   "mimetype": "text/x-python",
   "name": "python",
   "nbconvert_exporter": "python",
   "pygments_lexer": "ipython3",
   "version": "3.7.6"
  }
 },
 "nbformat": 4,
 "nbformat_minor": 4
}
