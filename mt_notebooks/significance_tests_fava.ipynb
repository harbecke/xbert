{
 "cells": [
  {
   "cell_type": "code",
   "execution_count": 1,
   "metadata": {},
   "outputs": [],
   "source": [
    "%load_ext autoreload\n",
    "%autoreload 2"
   ]
  },
  {
   "cell_type": "code",
   "execution_count": 2,
   "metadata": {},
   "outputs": [],
   "source": [
    "import os\n",
    "import dill\n",
    "import sys\n",
    "import numpy as np\n",
    "import scipy\n",
    "from collections import defaultdict\n",
    "\n",
    "sys.path.append(\"../\")\n",
    "sys.path.append(\"../experiments/\")"
   ]
  },
  {
   "cell_type": "code",
   "execution_count": 3,
   "metadata": {},
   "outputs": [],
   "source": [
    "import matplotlib.pyplot as plt"
   ]
  },
  {
   "cell_type": "code",
   "execution_count": 4,
   "metadata": {},
   "outputs": [],
   "source": [
    "from mt_codebase.load_relevances import experiment_load_relevances, relevances_to_lists, extract_verb_relevances\n",
    "from mt_codebase.sampling_examples import create_candidate_dicts, read_instances_dict_and_append_label_fava\n",
    "from mt_codebase.util import relevances_lists_to_t_values"
   ]
  },
  {
   "cell_type": "code",
   "execution_count": 5,
   "metadata": {},
   "outputs": [],
   "source": [
    "results_dir = \"../results/fava\""
   ]
  },
  {
   "cell_type": "code",
   "execution_count": 6,
   "metadata": {},
   "outputs": [],
   "source": [
    "with open(os.path.join(results_dir, \"resampling/candidate_instances.pkl\"), \"rb\") as in_f:\n",
    "    candidate_instances, candidate_results = dill.load(in_f)"
   ]
  },
  {
   "cell_type": "code",
   "execution_count": 7,
   "metadata": {},
   "outputs": [],
   "source": [
    "instances_dict, candidates_dict = create_candidate_dicts(candidate_instances, candidate_results)"
   ]
  },
  {
   "cell_type": "code",
   "execution_count": 8,
   "metadata": {},
   "outputs": [],
   "source": [
    "read_instances_dict_and_append_label_fava(\"../data/fava/dev.tsv\", instances_dict)"
   ]
  },
  {
   "cell_type": "code",
   "execution_count": 9,
   "metadata": {},
   "outputs": [],
   "source": [
    "fava_experiment_relevances = experiment_load_relevances(results_dir)[\"resampling\"]"
   ]
  },
  {
   "cell_type": "code",
   "execution_count": 10,
   "metadata": {},
   "outputs": [],
   "source": [
    "verb_idx_list = []\n",
    "with open(\"../data/fava/verb_idx.txt\") as inputfile:\n",
    "    for line in inputfile:\n",
    "        verb_idx_list.append(int(line))"
   ]
  },
  {
   "cell_type": "code",
   "execution_count": 11,
   "metadata": {},
   "outputs": [],
   "source": [
    "verb_relevances = extract_verb_relevances(fava_experiment_relevances, verb_idx_list)"
   ]
  },
  {
   "cell_type": "code",
   "execution_count": 12,
   "metadata": {},
   "outputs": [],
   "source": [
    "average_relevance_lists = relevances_to_lists(instances_dict, fava_experiment_relevances, lambda x: sum(x) / len(x), threshold=0.9)"
   ]
  },
  {
   "cell_type": "code",
   "execution_count": 13,
   "metadata": {},
   "outputs": [],
   "source": [
    "verb_relevance_lists = relevances_to_lists(instances_dict, verb_relevances, lambda x: sum(x) / len(x), threshold=0.9)"
   ]
  },
  {
   "cell_type": "code",
   "execution_count": 14,
   "metadata": {},
   "outputs": [
    {
     "data": {
      "text/plain": [
       "(0.11529652094926768, 0.3995709766280306)"
      ]
     },
     "execution_count": 14,
     "metadata": {},
     "output_type": "execute_result"
    }
   ],
   "source": [
    "sum(average_relevance_lists[0])/len(average_relevance_lists[0]), sum(verb_relevance_lists[0])/len(verb_relevance_lists[0])"
   ]
  },
  {
   "cell_type": "code",
   "execution_count": 15,
   "metadata": {},
   "outputs": [
    {
     "data": {
      "text/plain": [
       "(0.04291152612522862, 0.09600082368366043)"
      ]
     },
     "execution_count": 15,
     "metadata": {},
     "output_type": "execute_result"
    }
   ],
   "source": [
    "sum(average_relevance_lists[1])/len(average_relevance_lists[1]), sum(verb_relevance_lists[1])/len(verb_relevance_lists[1])"
   ]
  },
  {
   "cell_type": "code",
   "execution_count": 16,
   "metadata": {},
   "outputs": [],
   "source": [
    "incorrect_verb_relevance_t_values = relevances_lists_to_t_values([verb_relevance_lists[0], average_relevance_lists[0]])"
   ]
  },
  {
   "cell_type": "code",
   "execution_count": 17,
   "metadata": {},
   "outputs": [],
   "source": [
    "correct_verb_relevance_t_values = relevances_lists_to_t_values([verb_relevance_lists[1], average_relevance_lists[1]])"
   ]
  },
  {
   "cell_type": "code",
   "execution_count": 18,
   "metadata": {},
   "outputs": [
    {
     "data": {
      "text/plain": [
       "((32.33173633344874, 1282.8424350747955),\n",
       " (19.065787057303652, 2181.5750054349232))"
      ]
     },
     "execution_count": 18,
     "metadata": {},
     "output_type": "execute_result"
    }
   ],
   "source": [
    "incorrect_verb_relevance_t_values, correct_verb_relevance_t_values"
   ]
  },
  {
   "cell_type": "code",
   "execution_count": 19,
   "metadata": {},
   "outputs": [],
   "source": [
    "incorrect_verb_relevances = []\n",
    "correct_verb_relevances = []\n",
    "for idx in range(0, len(verb_idx_list), 2):\n",
    "    if instances_dict[idx][1] > 0.9 and instances_dict[idx+1][1] > 0.9:\n",
    "        if instances_dict[idx][2] == '0':\n",
    "            incorrect_verb_relevances.append(verb_relevances[idx][0])\n",
    "            correct_verb_relevances.append(verb_relevances[idx+1][0])\n",
    "        else:\n",
    "            incorrect_verb_relevances.append(verb_relevances[idx+1][0])\n",
    "            correct_verb_relevances.append(verb_relevances[idx][0])"
   ]
  },
  {
   "cell_type": "code",
   "execution_count": 20,
   "metadata": {},
   "outputs": [],
   "source": [
    "m, b = np.polyfit(incorrect_verb_relevances, correct_verb_relevances, 1)"
   ]
  },
  {
   "cell_type": "code",
   "execution_count": 21,
   "metadata": {
    "scrolled": false
   },
   "outputs": [
    {
     "data": {
      "image/png": "[encoded data removed]",
      "text/plain": [
       "<Figure size 360x288 with 1 Axes>"
      ]
     },
     "metadata": {
      "needs_background": "light"
     },
     "output_type": "display_data"
    }
   ],
   "source": [
    "plt.figure(figsize=(5, 4))\n",
    "plt.scatter(incorrect_verb_relevances, correct_verb_relevances)\n",
    "plt.plot(incorrect_verb_relevances, b + m * np.asarray(incorrect_verb_relevances), 'r-')\n",
    "plt.savefig('../data/fava/correlation.eps', format='eps')"
   ]
  },
  {
   "cell_type": "code",
   "execution_count": 22,
   "metadata": {},
   "outputs": [
    {
     "data": {
      "text/plain": [
       "(-0.13427158573424935, 0.0026252039732286977)"
      ]
     },
     "execution_count": 22,
     "metadata": {},
     "output_type": "execute_result"
    }
   ],
   "source": [
    "scipy.stats.pearsonr(incorrect_verb_relevances, correct_verb_relevances)"
   ]
  }
 ],
 "metadata": {
  "kernelspec": {
   "display_name": "Python [conda env:occlusion]",
   "language": "python",
   "name": "conda-env-occlusion-py"
  },
  "language_info": {
   "codemirror_mode": {
    "name": "ipython",
    "version": 3
   },
   "file_extension": ".py",
   "mimetype": "text/x-python",
   "name": "python",
   "nbconvert_exporter": "python",
   "pygments_lexer": "ipython3",
   "version": "3.7.6"
  }
 },
 "nbformat": 4,
 "nbformat_minor": 4
}
