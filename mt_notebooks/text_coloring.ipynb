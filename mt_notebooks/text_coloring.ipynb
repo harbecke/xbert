{
 "cells": [
  {
   "cell_type": "code",
   "execution_count": 1,
   "metadata": {},
   "outputs": [],
   "source": [
    "%load_ext autoreload\n",
    "%autoreload 2"
   ]
  },
  {
   "cell_type": "code",
   "execution_count": 2,
   "metadata": {},
   "outputs": [],
   "source": [
    "import sys\n",
    "\n",
    "sys.path.append(\"../\")\n",
    "sys.path.append(\"../experiments/\")"
   ]
  },
  {
   "cell_type": "code",
   "execution_count": 3,
   "metadata": {},
   "outputs": [],
   "source": [
    "from experiments.sst2 import read_sst2_dataset, dataset_to_input_instances\n",
    "from mt_codebase.latex_util import colored_text_to_table\n",
    "from mt_codebase.load_relevances import experiment_load_relevances"
   ]
  },
  {
   "cell_type": "code",
   "execution_count": 4,
   "metadata": {},
   "outputs": [],
   "source": [
    "results_dir = \"../results/sst2\"\n",
    "sst2_data_path = \"../data/glue_data/SST-2/dev.tsv\""
   ]
  },
  {
   "cell_type": "code",
   "execution_count": 5,
   "metadata": {},
   "outputs": [],
   "source": [
    "sst2_experiment_relevances = experiment_load_relevances(results_dir)\n",
    "dataset = read_sst2_dataset(sst2_data_path)\n",
    "input_instances = dataset_to_input_instances(dataset)"
   ]
  },
  {
   "cell_type": "code",
   "execution_count": 6,
   "metadata": {},
   "outputs": [
    {
     "name": "stdout",
     "output_type": "stream",
     "text": [
      "\\begin{table*}[h]\n",
      "  \\centering\n",
      "  \\begin{tabular}{l|l|l}\n",
      "    method&relevances&maximum value \\\\ \\hline\n",
      "    delete&\\colorbox[RGB]{255,0,0}{\\strut good} \\colorbox[RGB]{255,235,235}{\\strut film} \\colorbox[RGB]{255,253,253}{\\strut ,} \\colorbox[RGB]{250,250,255}{\\strut but} \\colorbox[RGB]{255,250,250}{\\strut very} \\colorbox[RGB]{250,250,255}{\\strut glum} \\colorbox[RGB]{251,251,255}{\\strut .} &0.98\\\\\n",
      "    grad&\\colorbox[RGB]{255,160,160}{\\strut good} \\colorbox[RGB]{255,210,210}{\\strut film} \\colorbox[RGB]{187,187,255}{\\strut ,} \\colorbox[RGB]{166,166,255}{\\strut but} \\colorbox[RGB]{255,130,130}{\\strut very} \\colorbox[RGB]{255,0,0}{\\strut glum} \\colorbox[RGB]{232,232,255}{\\strut .} &3.4e-07\\\\\n",
      "    gradxinput&\\colorbox[RGB]{255,31,31}{\\strut good} \\colorbox[RGB]{255,0,0}{\\strut film} \\colorbox[RGB]{255,5,5}{\\strut ,} \\colorbox[RGB]{214,214,255}{\\strut but} \\colorbox[RGB]{27,27,255}{\\strut very} \\colorbox[RGB]{101,101,255}{\\strut glum} \\colorbox[RGB]{255,236,236}{\\strut .} &0.041\\\\\n",
      "    integratedgrad&\\colorbox[RGB]{255,135,135}{\\strut good} \\colorbox[RGB]{255,229,229}{\\strut film} \\colorbox[RGB]{255,200,200}{\\strut ,} \\colorbox[RGB]{251,251,255}{\\strut but} \\colorbox[RGB]{214,214,255}{\\strut very} \\colorbox[RGB]{0,0,255}{\\strut glum} \\colorbox[RGB]{255,224,224}{\\strut .} &0.96\\\\\n",
      "    resampling&\\colorbox[RGB]{255,91,91}{\\strut good} \\colorbox[RGB]{255,0,0}{\\strut film} \\colorbox[RGB]{255,221,221}{\\strut ,} \\colorbox[RGB]{253,253,255}{\\strut but} \\colorbox[RGB]{255,190,190}{\\strut very} \\colorbox[RGB]{255,90,90}{\\strut glum} \\colorbox[RGB]{255,254,254}{\\strut .} &0.57\\\\\n",
      "    resampling_std&\\colorbox[RGB]{255,43,43}{\\strut good} \\colorbox[RGB]{255,26,26}{\\strut film} \\colorbox[RGB]{255,127,127}{\\strut ,} \\colorbox[RGB]{255,251,251}{\\strut but} \\colorbox[RGB]{255,89,89}{\\strut very} \\colorbox[RGB]{255,0,0}{\\strut glum} \\colorbox[RGB]{255,255,255}{\\strut .} &0.48\\\\\n",
      "    saliency&\\colorbox[RGB]{255,184,184}{\\strut good} \\colorbox[RGB]{255,160,160}{\\strut film} \\colorbox[RGB]{255,202,202}{\\strut ,} \\colorbox[RGB]{255,186,186}{\\strut but} \\colorbox[RGB]{255,190,190}{\\strut very} \\colorbox[RGB]{255,0,0}{\\strut glum} \\colorbox[RGB]{255,211,211}{\\strut .} &35\\\\\n",
      "    unk&\\colorbox[RGB]{255,0,0}{\\strut good} \\colorbox[RGB]{255,158,158}{\\strut film} \\colorbox[RGB]{255,229,229}{\\strut ,} \\colorbox[RGB]{250,250,255}{\\strut but} \\colorbox[RGB]{250,250,255}{\\strut very} \\colorbox[RGB]{250,250,255}{\\strut glum} \\colorbox[RGB]{250,250,255}{\\strut .} &0.98\\\\\n",
      "  \\end{tabular}\n",
      "  \\caption{Example explanations for SST-2}\n",
      "  \\label{tab:example_explanations}\n",
      "\\end{table*}\n"
     ]
    }
   ],
   "source": [
    "print(colored_text_to_table(sst2_experiment_relevances[667], input_instances[667]))"
   ]
  }
 ],
 "metadata": {
  "kernelspec": {
   "display_name": "Python [conda env:xbert]",
   "language": "python",
   "name": "conda-env-xbert-py"
  },
  "language_info": {
   "codemirror_mode": {
    "name": "ipython",
    "version": 3
   },
   "file_extension": ".py",
   "mimetype": "text/x-python",
   "name": "python",
   "nbconvert_exporter": "python",
   "pygments_lexer": "ipython3",
   "version": "3.7.7"
  }
 },
 "nbformat": 4,
 "nbformat_minor": 4
}