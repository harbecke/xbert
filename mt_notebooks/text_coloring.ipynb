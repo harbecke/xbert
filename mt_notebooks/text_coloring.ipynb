{
 "cells": [
  {
   "cell_type": "code",
   "execution_count": 1,
   "metadata": {},
   "outputs": [],
   "source": [
    "%load_ext autoreload\n",
    "%autoreload 2"
   ]
  },
  {
   "cell_type": "code",
   "execution_count": 2,
   "metadata": {},
   "outputs": [],
   "source": [
    "import sys\n",
    "sys.path.append(\"../\")\n",
    "sys.path.append(\"../experiments/\")"
   ]
  },
  {
   "cell_type": "code",
   "execution_count": 3,
   "metadata": {},
   "outputs": [],
   "source": [
    "import os\n",
    "from pathlib import Path\n",
    "\n",
    "import dill\n",
    "import numpy as np\n",
    "from typing import List, Tuple"
   ]
  },
  {
   "cell_type": "code",
   "execution_count": 4,
   "metadata": {},
   "outputs": [],
   "source": [
    "from xbert import InputInstance\n",
    "from segtok.tokenizer import web_tokenizer"
   ]
  },
  {
   "cell_type": "code",
   "execution_count": 5,
   "metadata": {},
   "outputs": [],
   "source": [
    "RESULTS_DIR = \"../results/\"\n",
    "DATASET_DIR = \"../data/glue_data/\"\n",
    "\n",
    "STRATEGY_NAME_MAPPING = {\n",
    "    \"unk\": \"Unk\",\n",
    "    \"delete\": \"Delete\",\n",
    "    \"resampling\": \"OLM\",\n",
    "    \"resampling_std\": \"OLM-S\",\n",
    "    \"grad\": \"Grad.\",\n",
    "    \"gradxinput\": \"Grad*Input\",\n",
    "    \"saliency\": \"Sensitivity\",\n",
    "    \"integratedgrad\": \"Integr. grad\"\n",
    "}"
   ]
  },
  {
   "cell_type": "code",
   "execution_count": 6,
   "metadata": {},
   "outputs": [],
   "source": [
    "def experiment_load_relevances(experiment_dir: str,\n",
    "                               relevance_filename: str = \"relevances.pkl\"):\n",
    "    path = Path(experiment_dir)\n",
    "    \n",
    "    experiment_relevances = {}\n",
    "    for relevance_file in path.glob(f\"**/{relevance_filename}\"):\n",
    "        name = relevance_file.parents[0].name\n",
    "        with relevance_file.open(\"rb\") as f:\n",
    "            relevances = dill.load(f)\n",
    "            experiment_relevances[name] = relevances\n",
    "            \n",
    "    return experiment_relevances"
   ]
  },
  {
   "cell_type": "code",
   "execution_count": 7,
   "metadata": {},
   "outputs": [],
   "source": [
    "SST2_RESULTS_PATH = os.path.join(RESULTS_DIR, \"sst2\")\n",
    "SST2_DATA_PATH = os.path.join(DATASET_DIR, \"SST-2/dev.tsv\")"
   ]
  },
  {
   "cell_type": "code",
   "execution_count": 8,
   "metadata": {},
   "outputs": [],
   "source": [
    "sst2_experiment_relevances = experiment_load_relevances(SST2_RESULTS_PATH)"
   ]
  },
  {
   "cell_type": "code",
   "execution_count": 9,
   "metadata": {},
   "outputs": [],
   "source": [
    "def read_sst2_dataset(path: str) -> List[Tuple[List[str], str]]:\n",
    "    dataset = []\n",
    "    with open(path) as fin:\n",
    "        fin.readline()\n",
    "        for index, line in enumerate(fin):\n",
    "            tokens = line.strip().split('\\t')\n",
    "            sent, target = tokens[0], tokens[1]\n",
    "            dataset.append((sent, target))\n",
    "            \n",
    "    return dataset\n",
    "\n",
    "\n",
    "def dataset_to_input_instances(dataset: List[Tuple[List[str], str]]) -> List[InputInstance]:\n",
    "    input_instances = []\n",
    "    for idx, (sent, _) in enumerate(dataset):\n",
    "        instance = InputInstance(id_=idx, sent=web_tokenizer(sent))\n",
    "        input_instances.append(instance)\n",
    "        \n",
    "    return input_instances"
   ]
  },
  {
   "cell_type": "code",
   "execution_count": 10,
   "metadata": {},
   "outputs": [],
   "source": [
    "dataset = read_sst2_dataset(SST2_DATA_PATH)\n",
    "input_instances = dataset_to_input_instances(dataset)"
   ]
  },
  {
   "cell_type": "code",
   "execution_count": 11,
   "metadata": {},
   "outputs": [],
   "source": [
    "def relevance_to_colored_text(relevance_dict, input_instances, method, idx):\n",
    "    output_text = ''\n",
    "    \n",
    "    sentence_relevance_dict = relevance_dict[method][idx]\n",
    "    sentence_value_list = list(sentence_relevance_dict.values())\n",
    "    max_value = np.abs(np.array(sentence_value_list)).max()\n",
    "    normalized_sentence_value_list = sentence_value_list/max_value\n",
    "\n",
    "    for word, score in zip(input_instances[idx].token_fields['sent']._tokens, normalized_sentence_value_list):\n",
    "        red = 255 * min(1, 1+score)\n",
    "        green = 255 * (1-abs(score))\n",
    "        blue = 255 * min(1, 1-score)\n",
    "        output_text += '\\colorbox[RGB]{' + str(int(red)) + ',' + str(int(green)) + ',' + str(int(blue)) + '}{\\strut ' + word + '} '\n",
    "\n",
    "    return output_text, max_value"
   ]
  },
  {
   "cell_type": "code",
   "execution_count": 12,
   "metadata": {},
   "outputs": [],
   "source": [
    "def colored_text_to_table(relevance_dict, input_instances, idx):\n",
    "    table_string_start = [\"\\\\begin{table*}[h]\", \"  \\\\centering\", \"  \\\\begin{tabular}{l|l|l}\", \"    method&relevances&maximum value \\\\\\ \\hline\"]    \n",
    "    table_string_end = [\"  \\\\end{tabular}\", \"  \\\\caption{Example explanations for SST-2}\", \"  \\\\label{tab:example_explanations}\", \"\\\\end{table*}\"]\n",
    "    \n",
    "    for method in relevance_dict.keys():\n",
    "        text, max_value = relevance_to_colored_text(relevance_dict, input_instances, method, idx)\n",
    "        table_string_start.append(f\"    {method}&{text}&{'%.2g'%max_value}\\\\\\\\\")\n",
    "    \n",
    "    return \"\\n\".join(table_string_start+table_string_end)"
   ]
  },
  {
   "cell_type": "code",
   "execution_count": 13,
   "metadata": {},
   "outputs": [
    {
     "name": "stdout",
     "output_type": "stream",
     "text": [
      "\\begin{table*}[h]\n",
      "  \\centering\n",
      "  \\begin{tabular}{l|l|l}\n",
      "    method&relevances&maximum value \\\\ \\hline\n",
      "    delete&\\colorbox[RGB]{255,0,0}{\\strut good} \\colorbox[RGB]{255,235,235}{\\strut film} \\colorbox[RGB]{255,253,253}{\\strut ,} \\colorbox[RGB]{250,250,255}{\\strut but} \\colorbox[RGB]{255,250,250}{\\strut very} \\colorbox[RGB]{250,250,255}{\\strut glum} \\colorbox[RGB]{251,251,255}{\\strut .} &0.98\\\\\n",
      "    grad&\\colorbox[RGB]{255,160,160}{\\strut good} \\colorbox[RGB]{255,210,210}{\\strut film} \\colorbox[RGB]{187,187,255}{\\strut ,} \\colorbox[RGB]{166,166,255}{\\strut but} \\colorbox[RGB]{255,130,130}{\\strut very} \\colorbox[RGB]{255,0,0}{\\strut glum} \\colorbox[RGB]{232,232,255}{\\strut .} &3.4e-07\\\\\n",
      "    gradxinput&\\colorbox[RGB]{255,31,31}{\\strut good} \\colorbox[RGB]{255,0,0}{\\strut film} \\colorbox[RGB]{255,5,5}{\\strut ,} \\colorbox[RGB]{214,214,255}{\\strut but} \\colorbox[RGB]{27,27,255}{\\strut very} \\colorbox[RGB]{101,101,255}{\\strut glum} \\colorbox[RGB]{255,236,236}{\\strut .} &0.041\\\\\n",
      "    integratedgrad&\\colorbox[RGB]{255,135,135}{\\strut good} \\colorbox[RGB]{255,229,229}{\\strut film} \\colorbox[RGB]{255,200,200}{\\strut ,} \\colorbox[RGB]{251,251,255}{\\strut but} \\colorbox[RGB]{214,214,255}{\\strut very} \\colorbox[RGB]{0,0,255}{\\strut glum} \\colorbox[RGB]{255,224,224}{\\strut .} &0.96\\\\\n",
      "    resampling&\\colorbox[RGB]{255,91,91}{\\strut good} \\colorbox[RGB]{255,0,0}{\\strut film} \\colorbox[RGB]{255,221,221}{\\strut ,} \\colorbox[RGB]{253,253,255}{\\strut but} \\colorbox[RGB]{255,190,190}{\\strut very} \\colorbox[RGB]{255,90,90}{\\strut glum} \\colorbox[RGB]{255,254,254}{\\strut .} &0.57\\\\\n",
      "    resampling_std&\\colorbox[RGB]{255,43,43}{\\strut good} \\colorbox[RGB]{255,26,26}{\\strut film} \\colorbox[RGB]{255,127,127}{\\strut ,} \\colorbox[RGB]{255,251,251}{\\strut but} \\colorbox[RGB]{255,89,89}{\\strut very} \\colorbox[RGB]{255,0,0}{\\strut glum} \\colorbox[RGB]{255,255,255}{\\strut .} &0.48\\\\\n",
      "    saliency&\\colorbox[RGB]{255,184,184}{\\strut good} \\colorbox[RGB]{255,160,160}{\\strut film} \\colorbox[RGB]{255,202,202}{\\strut ,} \\colorbox[RGB]{255,186,186}{\\strut but} \\colorbox[RGB]{255,190,190}{\\strut very} \\colorbox[RGB]{255,0,0}{\\strut glum} \\colorbox[RGB]{255,211,211}{\\strut .} &35\\\\\n",
      "    unk&\\colorbox[RGB]{255,0,0}{\\strut good} \\colorbox[RGB]{255,158,158}{\\strut film} \\colorbox[RGB]{255,229,229}{\\strut ,} \\colorbox[RGB]{250,250,255}{\\strut but} \\colorbox[RGB]{250,250,255}{\\strut very} \\colorbox[RGB]{250,250,255}{\\strut glum} \\colorbox[RGB]{250,250,255}{\\strut .} &0.98\\\\\n",
      "  \\end{tabular}\n",
      "  \\caption{Example explanations for SST-2}\n",
      "  \\label{tab:example_explanations}\n",
      "\\end{table*}\n"
     ]
    }
   ],
   "source": [
    "print(colored_text_to_table(sst2_experiment_relevances, input_instances, 667))"
   ]
  }
 ],
 "metadata": {
  "kernelspec": {
   "display_name": "Python [conda env:xbert]",
   "language": "python",
   "name": "conda-env-xbert-py"
  },
  "language_info": {
   "codemirror_mode": {
    "name": "ipython",
    "version": 3
   },
   "file_extension": ".py",
   "mimetype": "text/x-python",
   "name": "python",
   "nbconvert_exporter": "python",
   "pygments_lexer": "ipython3",
   "version": "3.7.7"
  }
 },
 "nbformat": 4,
 "nbformat_minor": 4
}
