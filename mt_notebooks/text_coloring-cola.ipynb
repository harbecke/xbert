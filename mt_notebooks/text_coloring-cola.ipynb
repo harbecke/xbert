{
 "cells": [
  {
   "cell_type": "code",
   "execution_count": 1,
   "metadata": {},
   "outputs": [],
   "source": [
    "%load_ext autoreload\n",
    "%autoreload 2"
   ]
  },
  {
   "cell_type": "code",
   "execution_count": 2,
   "metadata": {},
   "outputs": [],
   "source": [
    "import sys\n",
    "import numpy as np\n",
    "import dill\n",
    "\n",
    "sys.path.append(\"../\")\n",
    "sys.path.append(\"../experiments/\")"
   ]
  },
  {
   "cell_type": "code",
   "execution_count": 3,
   "metadata": {},
   "outputs": [],
   "source": [
    "np.random.seed(1)"
   ]
  },
  {
   "cell_type": "code",
   "execution_count": 4,
   "metadata": {},
   "outputs": [],
   "source": [
    "from experiments.cola import read_cola_dataset, dataset_to_input_instances\n",
    "from mt_codebase.latex_util import colored_text_to_table_cola\n",
    "from mt_codebase.load_relevances import experiment_load_relevances\n",
    "from mt_codebase.sampling_examples import create_candidate_dicts, read_instances_dict_and_append_label_cola"
   ]
  },
  {
   "cell_type": "code",
   "execution_count": 5,
   "metadata": {},
   "outputs": [],
   "source": [
    "results_dir = \"../results/cola\"\n",
    "cola_data_path = \"../data/glue_data/cola/dev.tsv\""
   ]
  },
  {
   "cell_type": "code",
   "execution_count": 6,
   "metadata": {},
   "outputs": [],
   "source": [
    "cola_experiment_relevances = experiment_load_relevances(results_dir)\n",
    "dataset = read_cola_dataset(cola_data_path)\n",
    "input_instances = dataset_to_input_instances(dataset)"
   ]
  },
  {
   "cell_type": "code",
   "execution_count": 7,
   "metadata": {},
   "outputs": [],
   "source": [
    "with open(\"../results/cola/resampling/candidate_instances.pkl\", \"rb\") as in_f:\n",
    "    candidate_instances, candidate_results = dill.load(in_f)"
   ]
  },
  {
   "cell_type": "code",
   "execution_count": 8,
   "metadata": {},
   "outputs": [],
   "source": [
    "instances_dict, _ = create_candidate_dicts(candidate_instances, candidate_results)"
   ]
  },
  {
   "cell_type": "code",
   "execution_count": 9,
   "metadata": {},
   "outputs": [],
   "source": [
    "read_instances_dict_and_append_label_cola(\"../data/glue_data/cola/in_domain_dev.tsv\",\n",
    "                                          \"../data/glue_data/cola/out_of_domain_dev.tsv\",\n",
    "                                          instances_dict)"
   ]
  },
  {
   "cell_type": "code",
   "execution_count": 10,
   "metadata": {},
   "outputs": [],
   "source": [
    "incorrect_idc = [idx for idx, instance in instances_dict.items() if instance[1]>0.9 and instance[2]=='0']\n",
    "correct_idc = [idx for idx, instance in instances_dict.items() if instance[1]>0.9 and instance[2]=='1']"
   ]
  },
  {
   "cell_type": "code",
   "execution_count": 11,
   "metadata": {},
   "outputs": [],
   "source": [
    "incorrect_examples = np.random.choice(incorrect_idc, 3)\n",
    "correct_examples = np.random.choice(correct_idc, 3)"
   ]
  },
  {
   "cell_type": "code",
   "execution_count": 12,
   "metadata": {},
   "outputs": [
    {
     "name": "stdout",
     "output_type": "stream",
     "text": [
      "\\begin{table*}[h]\n",
      "  \\centering\n",
      "  \\begin{tabular}{l|l}\n",
      "    relevances&maximum value \\\\ \\hline\n",
      "    \\colorbox[RGB]{255,254,254}{\\strut John} \\colorbox[RGB]{255,17,17}{\\strut paid} \\colorbox[RGB]{255,58,58}{\\strut me} \\colorbox[RGB]{255,0,0}{\\strut against} \\colorbox[RGB]{255,254,254}{\\strut the} \\colorbox[RGB]{255,180,180}{\\strut book} \\colorbox[RGB]{254,254,255}{\\strut .} &0.99\\\\\n",
      "    \\colorbox[RGB]{255,254,254}{\\strut The} \\colorbox[RGB]{255,254,254}{\\strut person} \\colorbox[RGB]{255,0,0}{\\strut confessed} \\colorbox[RGB]{255,33,33}{\\strut responsible} \\colorbox[RGB]{255,254,254}{\\strut .} &1\\\\\n",
      "    \\colorbox[RGB]{255,254,254}{\\strut Medea} \\colorbox[RGB]{255,0,0}{\\strut tried} \\colorbox[RGB]{255,254,254}{\\strut the} \\colorbox[RGB]{255,177,177}{\\strut nurse} \\colorbox[RGB]{255,254,254}{\\strut to} \\colorbox[RGB]{254,254,255}{\\strut poison} \\colorbox[RGB]{254,254,255}{\\strut her} \\colorbox[RGB]{255,254,254}{\\strut children} \\colorbox[RGB]{255,254,254}{\\strut .} &0.92\\\\\n",
      "  \\end{tabular}\n",
      "  \\caption{Example explanations for CoLA}\n",
      "  \\label{tab:example_explanations_cola}\n",
      "\\end{table*}\n"
     ]
    }
   ],
   "source": [
    "print(colored_text_to_table_cola(cola_experiment_relevances, input_instances, incorrect_examples, \"resampling\"))"
   ]
  },
  {
   "cell_type": "code",
   "execution_count": 13,
   "metadata": {},
   "outputs": [
    {
     "name": "stdout",
     "output_type": "stream",
     "text": [
      "\\begin{table*}[h]\n",
      "  \\centering\n",
      "  \\begin{tabular}{l|l}\n",
      "    relevances&maximum value \\\\ \\hline\n",
      "    \\colorbox[RGB]{255,229,229}{\\strut to} \\colorbox[RGB]{255,0,0}{\\strut die} \\colorbox[RGB]{255,254,254}{\\strut is} \\colorbox[RGB]{255,236,236}{\\strut no} \\colorbox[RGB]{255,180,180}{\\strut fun} \\colorbox[RGB]{254,254,255}{\\strut .} &0.49\\\\\n",
      "    \\colorbox[RGB]{255,254,254}{\\strut This} \\colorbox[RGB]{255,0,0}{\\strut teacher} \\colorbox[RGB]{254,254,255}{\\strut is} \\colorbox[RGB]{255,254,254}{\\strut a} \\colorbox[RGB]{255,205,205}{\\strut genius} \\colorbox[RGB]{255,254,254}{\\strut .} &0.056\\\\\n",
      "    \\colorbox[RGB]{255,116,116}{\\strut Soaring} \\colorbox[RGB]{255,160,160}{\\strut temperatures} \\colorbox[RGB]{255,254,254}{\\strut are} \\colorbox[RGB]{255,0,0}{\\strut predicted} \\colorbox[RGB]{255,254,254}{\\strut for} \\colorbox[RGB]{254,254,255}{\\strut this} \\colorbox[RGB]{255,254,254}{\\strut weekend} \\colorbox[RGB]{255,254,254}{\\strut .} &0.08\\\\\n",
      "  \\end{tabular}\n",
      "  \\caption{Example explanations for CoLA}\n",
      "  \\label{tab:example_explanations_cola}\n",
      "\\end{table*}\n"
     ]
    }
   ],
   "source": [
    "print(colored_text_to_table_cola(cola_experiment_relevances, input_instances, correct_examples, \"resampling\"))"
   ]
  }
 ],
 "metadata": {
  "kernelspec": {
   "display_name": "Python [conda env:xbert]",
   "language": "python",
   "name": "conda-env-xbert-py"
  },
  "language_info": {
   "codemirror_mode": {
    "name": "ipython",
    "version": 3
   },
   "file_extension": ".py",
   "mimetype": "text/x-python",
   "name": "python",
   "nbconvert_exporter": "python",
   "pygments_lexer": "ipython3",
   "version": "3.7.7"
  }
 },
 "nbformat": 4,
 "nbformat_minor": 4
}
