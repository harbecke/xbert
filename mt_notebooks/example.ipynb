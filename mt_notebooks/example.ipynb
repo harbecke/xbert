{
 "cells": [
  {
   "cell_type": "code",
   "execution_count": 1,
   "metadata": {},
   "outputs": [],
   "source": [
    "%load_ext autoreload\n",
    "%autoreload 2"
   ]
  },
  {
   "cell_type": "code",
   "execution_count": 2,
   "metadata": {},
   "outputs": [],
   "source": [
    "import sys\n",
    "from collections import defaultdict\n",
    "import numpy as np"
   ]
  },
  {
   "cell_type": "code",
   "execution_count": 3,
   "metadata": {},
   "outputs": [],
   "source": [
    "sys.path.append(\"../\")"
   ]
  },
  {
   "cell_type": "code",
   "execution_count": 4,
   "metadata": {},
   "outputs": [],
   "source": [
    "def calculate_correlation(relevance_dict_1, relevance_dict2):\n",
    "    zipped_value_list = []\n",
    "    for word_key, relevance in relevance_dict_1.items():\n",
    "        zipped_value_list.append([relevance, relevance_dict2[word_key]])\n",
    "    return np.corrcoef(np.array(zipped_value_list), rowvar=False)[0][1]"
   ]
  },
  {
   "cell_type": "code",
   "execution_count": 46,
   "metadata": {},
   "outputs": [],
   "source": [
    "import dill as pickle\n",
    "with open('../results/sst2/resampling/relevances.pkl', 'rb') as file:\n",
    "    olm = pickle.load(file)"
   ]
  },
  {
   "cell_type": "code",
   "execution_count": 54,
   "metadata": {},
   "outputs": [],
   "source": [
    "import dill as pickle\n",
    "with open('../results/sst2/resampling_std/relevances.pkl', 'rb') as file:\n",
    "    olms = pickle.load(file)"
   ]
  },
  {
   "cell_type": "code",
   "execution_count": 10,
   "metadata": {},
   "outputs": [],
   "source": [
    "with open('../results/sst2/unk/relevances.pkl', 'rb') as file:\n",
    "    unk = pickle.load(file)"
   ]
  },
  {
   "cell_type": "code",
   "execution_count": 11,
   "metadata": {},
   "outputs": [],
   "source": [
    "with open('../results/sst2/delete/relevances.pkl', 'rb') as file:\n",
    "    de = pickle.load(file)"
   ]
  },
  {
   "cell_type": "code",
   "execution_count": 12,
   "metadata": {},
   "outputs": [],
   "source": [
    "with open('../results/sst2/grad/relevances.pkl', 'rb') as file:\n",
    "    grad = pickle.load(file)"
   ]
  },
  {
   "cell_type": "code",
   "execution_count": 13,
   "metadata": {},
   "outputs": [],
   "source": [
    "with open('../results/sst2/gradxinput/relevances.pkl', 'rb') as file:\n",
    "    gi = pickle.load(file)"
   ]
  },
  {
   "cell_type": "code",
   "execution_count": 14,
   "metadata": {},
   "outputs": [],
   "source": [
    "with open('../results/sst2/integratedgrad/relevances.pkl', 'rb') as file:\n",
    "    ig = pickle.load(file)"
   ]
  },
  {
   "cell_type": "code",
   "execution_count": 55,
   "metadata": {},
   "outputs": [],
   "source": [
    "olms_short = dict()\n",
    "for key, value in olms.items():\n",
    "    if len(list(value)) < 10:\n",
    "        olms_short[key] = value"
   ]
  },
  {
   "cell_type": "code",
   "execution_count": 56,
   "metadata": {},
   "outputs": [],
   "source": [
    "olms_short_sum = dict()\n",
    "for key, value_dict in olms_short.items():\n",
    "    olms_short_sum[key] = sum(value_dict.values())"
   ]
  },
  {
   "cell_type": "code",
   "execution_count": 57,
   "metadata": {},
   "outputs": [
    {
     "data": {
      "text/plain": [
       "{1: 0.5514538092276552,\n",
       " 6: 0.5666872421312941,\n",
       " 22: 2.2041554799386303,\n",
       " 32: 1.687781100333684e-05,\n",
       " 55: 0.0005728836615283535,\n",
       " 58: 1.4893448726874496,\n",
       " 67: 2.5667059152001114e-05,\n",
       " 68: 0.3932866944853311,\n",
       " 72: 0.13249394359931918,\n",
       " 112: 0.49223135092400666,\n",
       " 113: 0.5038643588654795,\n",
       " 122: 0.3996540208523655,\n",
       " 123: 0.7868652470528618,\n",
       " 137: 1.3834137446100794,\n",
       " 138: 0.15382519143102,\n",
       " 154: 0.10839156768575202,\n",
       " 161: 0.48690970490057983,\n",
       " 171: 0.36571924008755624,\n",
       " 179: 0.49403896212696574,\n",
       " 195: 0.9099227908050744,\n",
       " 203: 0.3227768365772387,\n",
       " 207: 0.04860012236237629,\n",
       " 221: 0.48482247830222447,\n",
       " 234: 0.1704801265444476,\n",
       " 270: 0.4447343686088056,\n",
       " 271: 0.5776154313810871,\n",
       " 281: 0.881495238487965,\n",
       " 284: 0.5512533403970082,\n",
       " 289: 0.2857677483872696,\n",
       " 302: 0.46871695754523107,\n",
       " 303: 0.00022977918047717538,\n",
       " 306: 0.4342388895190113,\n",
       " 311: 1.9257101747383985e-05,\n",
       " 319: 0.004847758550230961,\n",
       " 320: 0.218480869980719,\n",
       " 321: 0.22100781509128922,\n",
       " 322: 0.1320608257176751,\n",
       " 323: 0.5745103529252928,\n",
       " 328: 0.27821964832508844,\n",
       " 346: 0.8083211998506172,\n",
       " 348: 0.5752581787812779,\n",
       " 354: 0.7408890023042949,\n",
       " 377: 1.0177600416348673,\n",
       " 393: 0.23941477412595893,\n",
       " 396: 2.0511006693182325e-05,\n",
       " 403: 0.4542247985566633,\n",
       " 407: 0.8421121890171342,\n",
       " 416: 0.39535819127491595,\n",
       " 419: 0.36733869067846503,\n",
       " 428: 0.17203995118618626,\n",
       " 431: 0.11830131262998357,\n",
       " 432: 0.49975693356946177,\n",
       " 434: 0.46475058936807867,\n",
       " 435: 0.18721967726026134,\n",
       " 436: 0.6970273411102289,\n",
       " 449: 0.5774046217308366,\n",
       " 462: 0.14259629066714377,\n",
       " 481: 0.7839508503221825,\n",
       " 490: 0.8660721473850804,\n",
       " 492: 0.1558267008957763,\n",
       " 493: 0.4465658509909663,\n",
       " 504: 1.57279325275222e-05,\n",
       " 527: 2.0230235067068576,\n",
       " 534: 0.14005455701403816,\n",
       " 535: 0.5119131427990596,\n",
       " 539: 0.9474661808453131,\n",
       " 540: 1.013900617485189,\n",
       " 541: 0.2973426431297687,\n",
       " 542: 1.1250473573230892,\n",
       " 549: 0.35350932248051187,\n",
       " 554: 0.24332405323793496,\n",
       " 573: 0.0005126815330436685,\n",
       " 578: 0.29346566056758794,\n",
       " 583: 0.5483644453034253,\n",
       " 591: 0.2205535755084102,\n",
       " 599: 0.17400209060493474,\n",
       " 601: 0.4030739997163343,\n",
       " 606: 0.19898654880058816,\n",
       " 607: 0.2470809872336652,\n",
       " 624: 0.1447575552020753,\n",
       " 627: 0.4409656779967213,\n",
       " 632: 0.4045814223694,\n",
       " 635: 0.10600139825139457,\n",
       " 639: 0.08517230394470018,\n",
       " 647: 0.0003023125861356743,\n",
       " 652: 0.8738715855879309,\n",
       " 658: 0.510682521053864,\n",
       " 667: 1.8613075696451447,\n",
       " 675: 0.9469246460846785,\n",
       " 681: 0.21400035915085114,\n",
       " 690: 0.575139440827365,\n",
       " 699: 0.6939637184488244,\n",
       " 706: 0.10460739764787487,\n",
       " 712: 0.06064661131566374,\n",
       " 721: 0.11452027334199841,\n",
       " 738: 0.4015219110003946,\n",
       " 741: 1.6381513650401127,\n",
       " 744: 0.8237359777758693,\n",
       " 746: 0.24205614276603424,\n",
       " 751: 0.3454383049297802,\n",
       " 756: 0.0012271058416864378,\n",
       " 773: 0.3599591471764998,\n",
       " 781: 0.6430375611673914,\n",
       " 790: 0.5779672318383197,\n",
       " 792: 0.26647402652438584,\n",
       " 808: 0.43668266507564774,\n",
       " 815: 0.15906111341725085,\n",
       " 817: 0.0002863620047356824,\n",
       " 822: 0.2661291653451059,\n",
       " 829: 0.552982449733096,\n",
       " 843: 0.49727572592546604,\n",
       " 852: 0.47861580874316123,\n",
       " 864: 0.13980961436324357,\n",
       " 867: 0.6901807627435179,\n",
       " 868: 0.5702757731177039}"
      ]
     },
     "execution_count": 57,
     "metadata": {},
     "output_type": "execute_result"
    }
   ],
   "source": [
    "olms_short_sum"
   ]
  },
  {
   "cell_type": "code",
   "execution_count": 65,
   "metadata": {},
   "outputs": [
    {
     "data": {
      "text/plain": [
       "defaultdict(float,\n",
       "            {('sent', 0): 0.36295619282289404,\n",
       "             ('sent', 1): 0.5661098272772506,\n",
       "             ('sent', 2): 0.07502522238763054,\n",
       "             ('sent', 3): -0.0022747457027435525,\n",
       "             ('sent', 4): 0.14337300290702837,\n",
       "             ('sent', 5): 0.36507048947969456,\n",
       "             ('sent', 6): 3.5762786865234375e-07})"
      ]
     },
     "execution_count": 65,
     "metadata": {},
     "output_type": "execute_result"
    }
   ],
   "source": [
    "olm[667]"
   ]
  },
  {
   "cell_type": "code",
   "execution_count": 67,
   "metadata": {},
   "outputs": [
    {
     "data": {
      "text/plain": [
       "defaultdict(float,\n",
       "            {('sent', 0): 0.39712095161414185,\n",
       "             ('sent', 1): 0.4296393655810152,\n",
       "             ('sent', 2): 0.23973324846189134,\n",
       "             ('sent', 3): 0.005886153765013446,\n",
       "             ('sent', 4): 0.3102806028452386,\n",
       "             ('sent', 5): 0.47864724737784425,\n",
       "             ('sent', 6): 0.0})"
      ]
     },
     "execution_count": 67,
     "metadata": {},
     "output_type": "execute_result"
    }
   ],
   "source": [
    "olms[667]"
   ]
  },
  {
   "cell_type": "code",
   "execution_count": 68,
   "metadata": {},
   "outputs": [
    {
     "data": {
      "text/plain": [
       "0.8691523738664307"
      ]
     },
     "execution_count": 68,
     "metadata": {},
     "output_type": "execute_result"
    }
   ],
   "source": [
    "calculate_correlation(olm[667], olms[667])"
   ]
  },
  {
   "cell_type": "code",
   "execution_count": 69,
   "metadata": {},
   "outputs": [
    {
     "data": {
      "text/plain": [
       "0.5441912388729032"
      ]
     },
     "execution_count": 69,
     "metadata": {},
     "output_type": "execute_result"
    }
   ],
   "source": [
    "calculate_correlation(olm[667], unk[667])"
   ]
  },
  {
   "cell_type": "code",
   "execution_count": 70,
   "metadata": {},
   "outputs": [
    {
     "data": {
      "text/plain": [
       "0.3585199414453237"
      ]
     },
     "execution_count": 70,
     "metadata": {},
     "output_type": "execute_result"
    }
   ],
   "source": [
    "calculate_correlation(olm[667], de[667])"
   ]
  },
  {
   "cell_type": "code",
   "execution_count": 71,
   "metadata": {},
   "outputs": [
    {
     "data": {
      "text/plain": [
       "0.5811677993612608"
      ]
     },
     "execution_count": 71,
     "metadata": {},
     "output_type": "execute_result"
    }
   ],
   "source": [
    "calculate_correlation(olm[667], grad[667])"
   ]
  },
  {
   "cell_type": "code",
   "execution_count": null,
   "outputs": [],
   "source": [
    "calculate_correlation(olms[667], grad[667])"
   ],
   "metadata": {
    "collapsed": false,
    "pycharm": {
     "name": "#%%\n"
    }
   }
  },
  {
   "cell_type": "code",
   "execution_count": null,
   "outputs": [],
   "source": [
    "calculate_correlation(olm[667], gi[667])"
   ],
   "metadata": {
    "collapsed": false,
    "pycharm": {
     "name": "#%%\n"
    }
   }
  },
  {
   "cell_type": "code",
   "execution_count": null,
   "outputs": [],
   "source": [
    "calculate_correlation(olm[667], ig[667])"
   ],
   "metadata": {
    "collapsed": false,
    "pycharm": {
     "name": "#%%\n"
    }
   }
  },
  {
   "cell_type": "code",
   "execution_count": 72,
   "metadata": {},
   "outputs": [
    {
     "data": {
      "text/plain": [
       "0.7741117296243906"
      ]
     },
     "execution_count": 72,
     "metadata": {},
     "output_type": "execute_result"
    }
   ],
   "source": [
    "calculate_correlation(olm[667], ig[667])"
   ]
  },
  {
   "cell_type": "code",
   "execution_count": 73,
   "metadata": {},
   "outputs": [
    {
     "data": {
      "text/plain": [
       "0.32664634238883805"
      ]
     },
     "execution_count": 73,
     "metadata": {},
     "output_type": "execute_result"
    }
   ],
   "source": [
    "calculate_correlation(olm[667], gi[667])"
   ]
  },
  {
   "cell_type": "code",
   "execution_count": 74,
   "metadata": {},
   "outputs": [
    {
     "data": {
      "text/plain": [
       "-0.14021700427818695"
      ]
     },
     "execution_count": 74,
     "metadata": {},
     "output_type": "execute_result"
    }
   ],
   "source": [
    "calculate_correlation(olm[667], ig[667])"
   ]
  }
 ],
 "metadata": {
  "kernelspec": {
   "display_name": "Python [conda env:occlusion]",
   "language": "python",
   "name": "conda-env-occlusion-py"
  },
  "language_info": {
   "codemirror_mode": {
    "name": "ipython",
    "version": 3
   },
   "file_extension": ".py",
   "mimetype": "text/x-python",
   "name": "python",
   "nbconvert_exporter": "python",
   "pygments_lexer": "ipython3",
   "version": "3.7.6"
  }
 },
 "nbformat": 4,
 "nbformat_minor": 2
}