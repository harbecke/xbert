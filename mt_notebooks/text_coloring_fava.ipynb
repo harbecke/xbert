{
 "cells": [
  {
   "cell_type": "code",
   "execution_count": 1,
   "metadata": {},
   "outputs": [],
   "source": [
    "%load_ext autoreload\n",
    "%autoreload 2"
   ]
  },
  {
   "cell_type": "code",
   "execution_count": 2,
   "metadata": {},
   "outputs": [],
   "source": [
    "import os\n",
    "import sys\n",
    "import numpy as np\n",
    "import dill\n",
    "from collections import defaultdict\n",
    "\n",
    "sys.path.append(\"../\")\n",
    "sys.path.append(\"../experiments/\")"
   ]
  },
  {
   "cell_type": "code",
   "execution_count": 3,
   "metadata": {},
   "outputs": [],
   "source": [
    "np.random.seed(1)"
   ]
  },
  {
   "cell_type": "code",
   "execution_count": 4,
   "metadata": {},
   "outputs": [],
   "source": [
    "from experiments.cola import read_cola_dataset, dataset_to_input_instances\n",
    "from mt_codebase.latex_util import colored_text_to_table_cola\n",
    "from mt_codebase.load_relevances import experiment_load_relevances\n",
    "from mt_codebase.sampling_examples import create_candidate_dicts, read_instances_dict_and_append_label_fava"
   ]
  },
  {
   "cell_type": "code",
   "execution_count": 5,
   "metadata": {},
   "outputs": [],
   "source": [
    "results_dir = \"../results/fava\"\n",
    "fava_data_path = \"../data/fava/dev.tsv\""
   ]
  },
  {
   "cell_type": "code",
   "execution_count": 6,
   "metadata": {},
   "outputs": [],
   "source": [
    "fava_experiment_relevances = experiment_load_relevances(results_dir)\n",
    "dataset = read_cola_dataset(fava_data_path)\n",
    "input_instances = dataset_to_input_instances(dataset)"
   ]
  },
  {
   "cell_type": "code",
   "execution_count": 7,
   "metadata": {},
   "outputs": [],
   "source": [
    "with open(os.path.join(results_dir, \"resampling/candidate_instances.pkl\"), \"rb\") as in_f:\n",
    "    candidate_instances, candidate_results = dill.load(in_f)"
   ]
  },
  {
   "cell_type": "code",
   "execution_count": 8,
   "metadata": {},
   "outputs": [],
   "source": [
    "instances_dict, _ = create_candidate_dicts(candidate_instances, candidate_results)"
   ]
  },
  {
   "cell_type": "code",
   "execution_count": 9,
   "metadata": {},
   "outputs": [],
   "source": [
    "read_instances_dict_and_append_label_fava(fava_data_path, instances_dict)"
   ]
  },
  {
   "cell_type": "code",
   "execution_count": 10,
   "metadata": {},
   "outputs": [],
   "source": [
    "idc_dict = defaultdict(list)\n",
    "for idx in range(0, len(instances_dict.keys()), 2):\n",
    "    if instances_dict[idx][1] > 0.9 and instances_dict[idx+1][1] > 0.9:\n",
    "        idc_dict[instances_dict[idx][3]].append(idx)"
   ]
  },
  {
   "cell_type": "code",
   "execution_count": 11,
   "metadata": {},
   "outputs": [],
   "source": [
    "selected_examples_list = []\n",
    "for keys, values in idc_dict.items():\n",
    "    idx = int(np.random.choice(values, 1))\n",
    "    if instances_dict[idx][2] == '0':\n",
    "        selected_examples_list.extend([idx, idx+1])\n",
    "    else:\n",
    "        selected_examples_list.extend([idx+1, idx])"
   ]
  },
  {
   "cell_type": "code",
   "execution_count": 12,
   "metadata": {},
   "outputs": [
    {
     "name": "stdout",
     "output_type": "stream",
     "text": [
      "\\begin{table*}[h]\n",
      "  \\centering\n",
      "  \\begin{tabular}{l|l}\n",
      "    relevances&max value \\\\ \\midrule\n",
      "    \\colorbox[RGB]{255,203,203}{\\strut the} \\colorbox[RGB]{255,207,207}{\\strut vodka} \\colorbox[RGB]{255,0,0}{\\strut wasted} \\colorbox[RGB]{254,254,255}{\\strut .} &0.51\\\\\n",
      "    \\colorbox[RGB]{255,49,49}{\\strut david} \\colorbox[RGB]{255,145,145}{\\strut wasted} \\colorbox[RGB]{255,0,0}{\\strut the} \\colorbox[RGB]{255,221,221}{\\strut vodka} \\colorbox[RGB]{253,253,255}{\\strut .} &0.12\\\\\n",
      "    \\colorbox[RGB]{254,254,255}{\\strut david} \\colorbox[RGB]{255,0,0}{\\strut rested} \\colorbox[RGB]{255,248,248}{\\strut the} \\colorbox[RGB]{255,251,251}{\\strut wall} \\colorbox[RGB]{255,241,241}{\\strut with} \\colorbox[RGB]{255,252,252}{\\strut the} \\colorbox[RGB]{255,252,252}{\\strut toolbox} \\colorbox[RGB]{255,255,255}{\\strut .} &0.71\\\\\n",
      "    \\colorbox[RGB]{255,216,216}{\\strut david} \\colorbox[RGB]{255,0,0}{\\strut rested} \\colorbox[RGB]{255,252,252}{\\strut the} \\colorbox[RGB]{255,249,249}{\\strut toolbox} \\colorbox[RGB]{251,251,255}{\\strut on} \\colorbox[RGB]{255,254,254}{\\strut the} \\colorbox[RGB]{255,238,238}{\\strut wall} \\colorbox[RGB]{255,254,254}{\\strut .} &0.37\\\\\n",
      "    \\colorbox[RGB]{255,244,244}{\\strut there} \\colorbox[RGB]{255,218,218}{\\strut dealt} \\colorbox[RGB]{254,254,255}{\\strut with} \\colorbox[RGB]{255,244,244}{\\strut the} \\colorbox[RGB]{223,223,255}{\\strut politician} \\colorbox[RGB]{255,232,232}{\\strut a} \\colorbox[RGB]{255,0,0}{\\strut student} \\colorbox[RGB]{254,254,255}{\\strut .} &0.19\\\\\n",
      "    \\colorbox[RGB]{255,240,240}{\\strut a} \\colorbox[RGB]{255,0,0}{\\strut student} \\colorbox[RGB]{255,77,77}{\\strut dealt} \\colorbox[RGB]{254,254,255}{\\strut with} \\colorbox[RGB]{251,251,255}{\\strut the} \\colorbox[RGB]{255,236,236}{\\strut politician} \\colorbox[RGB]{252,252,255}{\\strut .} &0.31\\\\\n",
      "    \\colorbox[RGB]{255,54,54}{\\strut kelly} \\colorbox[RGB]{255,0,0}{\\strut joked} \\colorbox[RGB]{255,68,68}{\\strut david} \\colorbox[RGB]{254,254,255}{\\strut .} &0.84\\\\\n",
      "    \\colorbox[RGB]{255,236,236}{\\strut kelly} \\colorbox[RGB]{255,255,255}{\\strut and} \\colorbox[RGB]{255,218,218}{\\strut david} \\colorbox[RGB]{255,0,0}{\\strut joked} \\colorbox[RGB]{254,254,255}{\\strut .} &0.42\\\\\n",
      "    \\colorbox[RGB]{254,254,255}{\\strut christopher} \\colorbox[RGB]{255,0,0}{\\strut proposed} \\colorbox[RGB]{255,208,208}{\\strut rebecca} \\colorbox[RGB]{255,248,248}{\\strut an} \\colorbox[RGB]{255,237,237}{\\strut idea} \\colorbox[RGB]{254,254,255}{\\strut .} &0.87\\\\\n",
      "    \\colorbox[RGB]{255,176,176}{\\strut christopher} \\colorbox[RGB]{255,90,90}{\\strut proposed} \\colorbox[RGB]{247,247,255}{\\strut an} \\colorbox[RGB]{255,118,118}{\\strut idea} \\colorbox[RGB]{255,254,254}{\\strut to} \\colorbox[RGB]{255,0,0}{\\strut rebecca} \\colorbox[RGB]{254,254,255}{\\strut .} &0.28\\\\\n",
      "  \\end{tabular}\n",
      "  \\caption{Example explanations for CoLA}\n",
      "  \\label{tab:example_explanations_cola}\n",
      "\\end{table*}\n"
     ]
    }
   ],
   "source": [
    "print(colored_text_to_table_cola(fava_experiment_relevances, input_instances, selected_examples_list, \"resampling\"))"
   ]
  }
 ],
 "metadata": {
  "kernelspec": {
   "display_name": "Python [conda env:xbert]",
   "language": "python",
   "name": "conda-env-xbert-py"
  },
  "language_info": {
   "codemirror_mode": {
    "name": "ipython",
    "version": 3
   },
   "file_extension": ".py",
   "mimetype": "text/x-python",
   "name": "python",
   "nbconvert_exporter": "python",
   "pygments_lexer": "ipython3",
   "version": "3.7.7"
  }
 },
 "nbformat": 4,
 "nbformat_minor": 4
}
