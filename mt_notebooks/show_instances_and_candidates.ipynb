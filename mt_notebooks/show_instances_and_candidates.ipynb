{
 "cells": [
  {
   "cell_type": "code",
   "execution_count": 1,
   "metadata": {},
   "outputs": [],
   "source": [
    "%load_ext autoreload\n",
    "%autoreload 2"
   ]
  },
  {
   "cell_type": "code",
   "execution_count": 2,
   "metadata": {},
   "outputs": [],
   "source": [
    "import dill\n",
    "\n",
    "from mt_codebase.sampling_examples import create_candidate_dicts, read_instances_dict_and_append_label"
   ]
  },
  {
   "cell_type": "code",
   "execution_count": 5,
   "metadata": {},
   "outputs": [],
   "source": [
    "with open(\"../results/cola/resampling/candidate_instances.pkl\", \"rb\") as in_f:\n",
    "    candidate_instances, candidate_results = dill.load(in_f)"
   ]
  },
  {
   "cell_type": "code",
   "execution_count": 8,
   "metadata": {},
   "outputs": [],
   "source": [
    "instances_dict, candidates_dict = create_candidate_dicts(candidate_instances, candidate_results)"
   ]
  },
  {
   "cell_type": "code",
   "execution_count": 9,
   "metadata": {},
   "outputs": [],
   "source": [
    "read_instances_dict_and_append_label(\"../results/cola/in_domain_dev.tsv\",\n",
    "                                     \"../results/cola/out_of_domain_dev.tsv\",\n",
    "                                     instances_dict)"
   ]
  },
  {
   "cell_type": "code",
   "execution_count": 10,
   "metadata": {},
   "outputs": [
    {
     "data": {
      "text/plain": [
       "[['The',\n",
       "  'weights',\n",
       "  'made',\n",
       "  'the',\n",
       "  'rope',\n",
       "  'stretch',\n",
       "  'over',\n",
       "  'the',\n",
       "  'pulley',\n",
       "  '.'],\n",
       " 0.999594509601593,\n",
       " '1']"
      ]
     },
     "execution_count": 10,
     "metadata": {},
     "output_type": "execute_result"
    }
   ],
   "source": [
    "instances_dict[0]"
   ]
  },
  {
   "cell_type": "code",
   "execution_count": 11,
   "metadata": {},
   "outputs": [
    {
     "data": {
      "text/plain": [
       "(['The',\n",
       "  'weights',\n",
       "  'made',\n",
       "  'the',\n",
       "  'rope',\n",
       "  'stretch',\n",
       "  'over',\n",
       "  'the',\n",
       "  'pulley',\n",
       "  ';'],\n",
       " 4.0,\n",
       " 0.9995357990264893)"
      ]
     },
     "execution_count": 11,
     "metadata": {},
     "output_type": "execute_result"
    }
   ],
   "source": [
    "candidates_dict[0][9][1]"
   ]
  }
 ],
 "metadata": {
  "kernelspec": {
   "display_name": "Python [conda env:occlusion]",
   "language": "python",
   "name": "conda-env-occlusion-py"
  },
  "language_info": {
   "codemirror_mode": {
    "name": "ipython",
    "version": 3
   },
   "file_extension": ".py",
   "mimetype": "text/x-python",
   "name": "python",
   "nbconvert_exporter": "python",
   "pygments_lexer": "ipython3",
   "version": "3.7.6"
  }
 },
 "nbformat": 4,
 "nbformat_minor": 4
}