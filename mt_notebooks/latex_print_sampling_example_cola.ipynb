{
 "cells": [
  {
   "cell_type": "code",
   "execution_count": 2,
   "metadata": {
    "pycharm": {
     "name": "#%%\n"
    }
   },
   "outputs": [],
   "source": [
    "%load_ext autoreload\n",
    "%autoreload 2"
   ]
  },
  {
   "cell_type": "code",
   "execution_count": 3,
   "metadata": {},
   "outputs": [],
   "source": [
    "import sys\n",
    "import os\n",
    "import dill\n",
    "\n",
    "sys.path.append(\"../\")"
   ]
  },
  {
   "cell_type": "code",
   "execution_count": 4,
   "metadata": {},
   "outputs": [],
   "source": [
    "from mt_codebase.latex_util import processed_list_to_latex_table\n",
    "from mt_codebase.sampling_examples import (create_candidate_dicts, filter_and_sort_candidates,\n",
    "                                           processed_candidates_dict_to_list)"
   ]
  },
  {
   "cell_type": "code",
   "execution_count": 5,
   "metadata": {},
   "outputs": [],
   "source": [
    "results_dir = \"../results/cola/resampling/\""
   ]
  },
  {
   "cell_type": "code",
   "execution_count": 6,
   "metadata": {},
   "outputs": [],
   "source": [
    "with open(os.path.join(results_dir, \"candidate_instances.pkl\"), \"rb\") as in_f:\n",
    "    candidate_instances, candidate_results = dill.load(in_f)\n",
    "instances_dict, candidates_dict = create_candidate_dicts(candidate_instances, candidate_results)"
   ]
  },
  {
   "cell_type": "code",
   "execution_count": 7,
   "metadata": {},
   "outputs": [
    {
     "name": "stdout",
     "output_type": "stream",
     "text": [
      "he & pushed & damages & for & the & wall & . \\\\\n",
      "(42, 1) & (28, 0.0004) & (52, 0.00043) & (96, 0.00037) & (80, 1) & (8, 1) & (95, 1) \\\\ \\hline\n",
      "they & pressed & taxes & with & my & money & ; \\\\\n",
      "(16, 1) & (21, 0.00036) & (10, 0.00079) & (2, 0.00059) & (9, 0.99) & (5, 1) & (3, 1) \\\\ \\hline\n",
      "she & pinned & fine &   & his & contract &   \\\\\n",
      "(10, 1) & (7, 0.00033) & (5, 1) &   & (6, 1) & (4, 0.00077) &   \\\\ \\hline\n",
      "you & leaned & me &   & a & will &   \\\\\n",
      "(8, 1) & (6, 0.00038) & (3, 1) &   & (2, 1) & (3, 0.00032) &   \\\\ \\hline\n",
      "it & shoved & off &   &   & grain &   \\\\\n",
      "(3, 1) & (5, 0.00036) & (2, 1) &   &   & (3, 0.0081) &   \\\\ \\hline\n",
      "\" & pushes & court &   &   & odds &   \\\\\n",
      "(2, 0.99) & (3, 0.00041) & (2, 1) &   &   & (3, 0.00039) &   \\\\ \\hline\n",
      "  & held & tax &   &   & bargain &   \\\\\n",
      "  & (2, 0.0016) & (2, 0.00069) &   &   & (3, 0.36) &   \\\\ \\hline\n",
      "  & pulled & judgment &   &   & house &   \\\\\n",
      "  & (2, 0.00039) & (2, 0.00046) &   &   & (2, 1) &   \\\\ \\hline\n",
      "  & mounted & fees &   &   & table &   \\\\\n",
      "  & (2, 1) & (2, 0.0016) &   &   & (2, 1) &   \\\\ \\hline\n",
      "  & flattened &   &   &   & bill &   \\\\\n",
      "  & (2, 0.00039) &   &   &   & (2, 1) &   \\\\ \\hline\n",
      "  & propped &   &   &   & rules &   \\\\\n",
      "  & (2, 0.00056) &   &   &   & (2, 0.00039) &   \\\\ \\hline\n",
      "  &   &   &   &   & price &   \\\\\n",
      "  &   &   &   &   & (2, 1) &   \\\\ \\hline\n",
      "  &   &   &   &   & debt &   \\\\\n",
      "  &   &   &   &   & (2, 1) &   \\\\ \\hline\n",
      "  &   &   &   &   & fence &   \\\\\n",
      "  &   &   &   &   & (2, 0.27) &   \\\\ \\hline\n",
      "  &   &   &   &   & inevitable &   \\\\\n",
      "  &   &   &   &   & (2, 0.93) &  \n"
     ]
    }
   ],
   "source": [
    "index = 256\n",
    "filter_and_sort_candidates(candidates_dict[index])\n",
    "candidates_list = processed_candidates_dict_to_list(candidates_dict[index])\n",
    "print(processed_list_to_latex_table(candidates_list))"
   ]
  },
  {
   "cell_type": "code",
   "execution_count": 8,
   "metadata": {},
   "outputs": [
    {
     "name": "stdout",
     "output_type": "stream",
     "text": [
      "one & man & was & himself & . \\\\\n",
      "(26, 1) & (4, 1) & (57, 0.00044) & (20, 0.0004) & (88, 1) \\\\ \\hline\n",
      "the & victim & is & suicide & ; \\\\\n",
      "(25, 1) & (4, 1) & (40, 0.00044) & (7, 0.00032) & (12, 1) \\\\ \\hline\n",
      "another & judge &   & immediately &   \\\\\n",
      "(18, 1) & (3, 1) &   & (6, 0.00033) &   \\\\ \\hline\n",
      "a & one &   & herself &   \\\\\n",
      "(11, 1) & (2, 1) &   & (4, 0.0021) &   \\\\ \\hline\n",
      "no & mother &   & to &   \\\\\n",
      "(7, 1) & (2, 1) &   & (3, 0.00036) &   \\\\ \\hline\n",
      "this & captain &   & it &   \\\\\n",
      "(4, 1) & (2, 1) &   & (3, 0.00035) &   \\\\ \\hline\n",
      "each & criminal &   & again &   \\\\\n",
      "(3, 1) & (2, 1) &   & (3, 0.00033) &   \\\\ \\hline\n",
      "neither & killer &   & accordingly &   \\\\\n",
      "(2, 1) & (2, 1) &   & (3, 0.00032) &   \\\\ \\hline\n",
      "  & witness &   & first &   \\\\\n",
      "  & (2, 1) &   & (2, 0.00037) &   \\\\ \\hline\n",
      "  & defendant &   & violence &   \\\\\n",
      "  & (2, 1) &   & (2, 0.00035) &   \\\\ \\hline\n",
      "  & investigator &   & failure &   \\\\\n",
      "  & (2, 1) &   & (2, 0.00033) &   \\\\ \\hline\n",
      "  &   &   & guilty &   \\\\\n",
      "  &   &   & (2, 0.00041) &   \\\\ \\hline\n",
      "  &   &   & willingly &   \\\\\n",
      "  &   &   & (2, 0.00035) &  \n"
     ]
    }
   ],
   "source": [
    "index = 867\n",
    "filter_and_sort_candidates(candidates_dict[index])\n",
    "candidates_list = processed_candidates_dict_to_list(candidates_dict[index])\n",
    "print(processed_list_to_latex_table(candidates_list))"
   ]
  },
  {
   "cell_type": "code",
   "execution_count": 9,
   "metadata": {},
   "outputs": [
    {
     "name": "stdout",
     "output_type": "stream",
     "text": [
      "she & orders & the & same & to & calm & the & again & . \\\\\n",
      "(72, 1) & (20, 0.00035) & (31, 1) & (12, 0.0011) & (99, 1) & (15, 1) & (93, 1) & (8, 1) & (96, 1) \\\\ \\hline\n",
      "they & tells & a & witch &   & nurse & her & mother & ; \\\\\n",
      "(4, 1) & (8, 0.00036) & (23, 1) & (6, 1) &   & (8, 1) & (4, 1) & (5, 1) & (4, 1) \\\\ \\hline\n",
      "i & asks & her & twins &   & see & his & husband &   \\\\\n",
      "(3, 1) & (8, 0.00036) & (15, 1) & (5, 1) &   & (6, 1) & (2, 1) & (5, 1) &   \\\\ \\hline\n",
      "he & asked & to & king &   & hold &   & blood &   \\\\\n",
      "(2, 1) & (5, 0.00035) & (13, 1) & (4, 1) &   & (6, 1) &   & (4, 1) &   \\\\ \\hline\n",
      "  & allows & his & others &   & help &   & tongue &   \\\\\n",
      "  & (4, 0.00032) & (7, 1) & (4, 1) &   & (4, 1) &   & (4, 1) &   \\\\ \\hline\n",
      "  & begs & my & maids &   & wake &   & back &   \\\\\n",
      "  & (4, 0.00041) & (3, 1) & (3, 1) &   & (3, 1) &   & (3, 1) &   \\\\ \\hline\n",
      "  & told & another & best &   & raise &   & own &   \\\\\n",
      "  & (3, 0.00036) & (3, 1) & (2, 0.00034) &   & (3, 1) &   & (3, 1) &   \\\\ \\hline\n",
      "  & uses & every & woman &   & comfort &   & slowly &   \\\\\n",
      "  & (3, 0.00032) & (3, 1) & (2, 1) &   & (3, 1) &   & (3, 1) &   \\\\ \\hline\n",
      "  & caused &   & magic &   & locate &   & father &   \\\\\n",
      "  & (2, 0.00034) &   & (2, 0.00048) &   & (3, 1) &   & (2, 1) &   \\\\ \\hline\n",
      "  & ordered &   & impossible &   & soothe &   & son &   \\\\\n",
      "  & (2, 0.00035) &   & (2, 0.00034) &   & (3, 1) &   & (2, 1) &   \\\\ \\hline\n",
      "  & causes &   & goddess &   & place &   & hair &   \\\\\n",
      "  & (2, 0.00035) &   & (2, 1) &   & (2, 1) &   & (2, 1) &   \\\\ \\hline\n",
      "  & convinced &   & whip &   & free &   & daughter &   \\\\\n",
      "  & (2, 0.00034) &   & (2, 0.15) &   & (2, 1) &   & (2, 1) &   \\\\ \\hline\n",
      "  & sends &   & fairies &   & call &   & quickly &   \\\\\n",
      "  & (2, 0.00036) &   & (2, 1) &   & (2, 1) &   & (2, 1) &   \\\\ \\hline\n",
      "  & begged &   &   &   & move &   & glass &   \\\\\n",
      "  & (2, 0.00045) &   &   &   & (2, 1) &   & (2, 1) &   \\\\ \\hline\n",
      "  & convinces &   &   &   & release &   & brain &   \\\\\n",
      "  & (2, 0.00035) &   &   &   & (2, 1) &   & (2, 1) &   \\\\ \\hline\n",
      "  & marries &   &   &   & save &   & mistake &   \\\\\n",
      "  & (2, 0.00065) &   &   &   & (2, 1) &   & (2, 1) &   \\\\ \\hline\n",
      "  &   &   &   &   & tend &   &   &   \\\\\n",
      "  &   &   &   &   & (2, 1) &   &   &   \\\\ \\hline\n",
      "  &   &   &   &   & collect &   &   &   \\\\\n",
      "  &   &   &   &   & (2, 1) &   &   &   \\\\ \\hline\n",
      "  &   &   &   &   & hush &   &   &   \\\\\n",
      "  &   &   &   &   & (2, 1) &   &   &  \n"
     ]
    }
   ],
   "source": [
    "index = 493\n",
    "filter_and_sort_candidates(candidates_dict[index])\n",
    "candidates_list = processed_candidates_dict_to_list(candidates_dict[index])\n",
    "print(processed_list_to_latex_table(candidates_list))"
   ]
  },
  {
   "cell_type": "code",
   "execution_count": 10,
   "metadata": {},
   "outputs": [
    {
     "name": "stdout",
     "output_type": "stream",
     "text": [
      "to & eat & was & no & crime & . \\\\\n",
      "(89, 1) & (10, 0.089) & (84, 1) & (21, 1) & (8, 1) & (96, 1) \\\\ \\hline\n",
      "watching & drink & is & more & game & ; \\\\\n",
      "(4, 0.0074) & (8, 0.0022) & (16, 1) & (9, 1) & (4, 1) & (3, 1) \\\\ \\hline\n",
      "letting & me &   & for & different &   \\\\\n",
      "(4, 1) & (5, 0.83) &   & (8, 1) & (3, 1) &   \\\\ \\hline\n",
      "  & fight &   & not & matter &   \\\\\n",
      "  & (5, 0.72) &   & (7, 1) & (3, 0.99) &   \\\\ \\hline\n",
      "  & read &   & much & fun &   \\\\\n",
      "  & (3, 0.94) &   & (6, 1) & (3, 1) &   \\\\ \\hline\n",
      "  & lie &   & great & option &   \\\\\n",
      "  & (3, 1) &   & (6, 1) & (3, 1) &   \\\\ \\hline\n",
      "  & run &   & very & excuse &   \\\\\n",
      "  & (2, 0.98) &   & (5, 1) & (3, 1) &   \\\\ \\hline\n",
      "  & talk &   & so & sacrifice &   \\\\\n",
      "  & (2, 1) &   & (4, 1) & (3, 1) &   \\\\ \\hline\n",
      "  & try &   & always & hardship &   \\\\\n",
      "  & (2, 0.011) &   & (4, 1) & (3, 1) &   \\\\ \\hline\n",
      "  & kill &   & only & good &   \\\\\n",
      "  & (2, 0.99) &   & (3, 1) & (2, 1) &   \\\\ \\hline\n",
      "  & walk &   & never & relief &   \\\\\n",
      "  & (2, 0.93) &   & (3, 1) & (2, 1) &   \\\\ \\hline\n",
      "  & speak &   & good & lie &   \\\\\n",
      "  & (2, 0.99) &   & (3, 1) & (2, 1) &   \\\\ \\hline\n",
      "  & laugh &   & some & object &   \\\\\n",
      "  & (2, 1) &   & (2, 1) & (2, 0.61) &   \\\\ \\hline\n",
      "  &   &   & such & coincidence &   \\\\\n",
      "  &   &   & (2, 1) & (2, 1) &   \\\\ \\hline\n",
      "  &   &   & still &   &   \\\\\n",
      "  &   &   & (2, 1) &   &   \\\\ \\hline\n",
      "  &   &   & really &   &   \\\\\n",
      "  &   &   & (2, 1) &   &  \n"
     ]
    }
   ],
   "source": [
    "index = 992\n",
    "filter_and_sort_candidates(candidates_dict[index])\n",
    "candidates_list = processed_candidates_dict_to_list(candidates_dict[index])\n",
    "print(processed_list_to_latex_table(candidates_list))"
   ]
  }
 ],
 "metadata": {
  "kernelspec": {
   "display_name": "Python [conda env:xbert]",
   "language": "python",
   "name": "conda-env-xbert-py"
  },
  "language_info": {
   "codemirror_mode": {
    "name": "ipython",
    "version": 3
   },
   "file_extension": ".py",
   "mimetype": "text/x-python",
   "name": "python",
   "nbconvert_exporter": "python",
   "pygments_lexer": "ipython3",
   "version": "3.7.7"
  }
 },
 "nbformat": 4,
 "nbformat_minor": 4
}
