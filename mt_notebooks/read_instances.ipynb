{
 "cells": [
  {
   "cell_type": "code",
   "execution_count": 1,
   "metadata": {},
   "outputs": [],
   "source": [
    "%load_ext autoreload\n",
    "%autoreload 2"
   ]
  },
  {
   "cell_type": "code",
   "execution_count": 2,
   "metadata": {},
   "outputs": [],
   "source": [
    "import os\n",
    "import sys\n",
    "import dill\n",
    "import csv\n",
    "from collections import defaultdict"
   ]
  },
  {
   "cell_type": "code",
   "execution_count": 3,
   "metadata": {},
   "outputs": [],
   "source": [
    "module_path = os.path.abspath(os.path.join('../'))\n",
    "\n",
    "if module_path not in sys.path:\n",
    "    sys.path.append(module_path)"
   ]
  },
  {
   "cell_type": "code",
   "execution_count": 3,
   "metadata": {},
   "outputs": [
    {
     "ename": "ModuleNotFoundError",
     "evalue": "No module named 'xbert'",
     "output_type": "error",
     "traceback": [
      "\u001b[1;31m---------------------------------------------------------------------------\u001b[0m",
      "\u001b[1;31mModuleNotFoundError\u001b[0m                       Traceback (most recent call last)",
      "\u001b[1;32m<ipython-input-3-acd892f9d599>\u001b[0m in \u001b[0;36m<module>\u001b[1;34m\u001b[0m\n\u001b[1;32m----> 1\u001b[1;33m \u001b[1;32mimport\u001b[0m \u001b[0mxbert\u001b[0m\u001b[1;33m\u001b[0m\u001b[1;33m\u001b[0m\u001b[0m\n\u001b[0m",
      "\u001b[1;31mModuleNotFoundError\u001b[0m: No module named 'xbert'"
     ]
    }
   ],
   "source": [
    "import xbert"
   ]
  },
  {
   "cell_type": "code",
   "execution_count": 5,
   "metadata": {},
   "outputs": [],
   "source": [
    "with open(\"../results/cola/resampling/candidate_instances.pkl\", \"rb\") as in_f:\n",
    "    candidate_instances, candidate_results = dill.load(in_f)"
   ]
  },
  {
   "cell_type": "code",
   "execution_count": 6,
   "metadata": {},
   "outputs": [],
   "source": [
    "def create_candidate_dicts(candidate_instances, candidate_results):\n",
    "    id_counter = -1\n",
    "    replace_counter = 0\n",
    "    weight_sum = 0\n",
    "    candidates_dict = defaultdict(lambda: defaultdict(list))\n",
    "    instances_dict = defaultdict(tuple)\n",
    "    for instance, result in zip(candidate_instances, candidate_results):\n",
    "        if instance.id == id_counter:\n",
    "            if weight_sum == 100.0:\n",
    "                weight_sum = 0\n",
    "                replace_counter += 1\n",
    "            candidates_dict[id_counter][replace_counter].append(\n",
    "                (instance.token_fields[\"sent\"].tokens, instance.weight, result))\n",
    "            weight_sum += instance.weight\n",
    "        \n",
    "        else:\n",
    "            replace_counter = 0\n",
    "            weight_sum = 0\n",
    "            id_counter += 1\n",
    "            instances_dict[id_counter] = [instance.token_fields[\"sent\"].tokens, result]\n",
    "            \n",
    "    return instances_dict, candidates_dict"
   ]
  },
  {
   "cell_type": "code",
   "execution_count": 7,
   "metadata": {},
   "outputs": [],
   "source": [
    "def read_dataset_and_append_label(data1, data2, output):\n",
    "    with open(data1, 'r') as csv_file_1:\n",
    "        spamreader = csv.reader(csv_file_1, delimiter='\\t')\n",
    "        next(spamreader)\n",
    "        for idx1, line in enumerate(spamreader):\n",
    "            output[idx1].append(line[1])\n",
    "            \n",
    "    with open(data2, 'r') as csv_file_2:\n",
    "        spamreader = csv.reader(csv_file_2, delimiter='\\t')\n",
    "        for idx2, line in enumerate(spamreader):\n",
    "            instances_dict[idx1+idx2+1].append(line[1])\n",
    "    \n",
    "    return"
   ]
  },
  {
   "cell_type": "code",
   "execution_count": 8,
   "metadata": {},
   "outputs": [],
   "source": [
    "instances_dict, candidates_dict = create_candidate_dicts(candidate_instances, candidate_results)"
   ]
  },
  {
   "cell_type": "code",
   "execution_count": 9,
   "metadata": {},
   "outputs": [],
   "source": [
    "read_dataset_and_append_label(\"../results/cola/in_domain_dev.tsv\",\n",
    "                              '../results/cola/out_of_domain_dev.tsv',\n",
    "                              instances_dict)"
   ]
  },
  {
   "cell_type": "code",
   "execution_count": 17,
   "metadata": {},
   "outputs": [
    {
     "data": {
      "text/plain": [
       "[['The',\n",
       "  'weights',\n",
       "  'made',\n",
       "  'the',\n",
       "  'rope',\n",
       "  'stretch',\n",
       "  'over',\n",
       "  'the',\n",
       "  'pulley',\n",
       "  '.'],\n",
       " 0.999594509601593,\n",
       " '1']"
      ]
     },
     "execution_count": 17,
     "metadata": {},
     "output_type": "execute_result"
    }
   ],
   "source": [
    "instances_dict[0]"
   ]
  },
  {
   "cell_type": "code",
   "execution_count": 14,
   "metadata": {},
   "outputs": [
    {
     "data": {
      "text/plain": [
       "(['The',\n",
       "  'weights',\n",
       "  'made',\n",
       "  'the',\n",
       "  'rope',\n",
       "  'stretch',\n",
       "  'over',\n",
       "  'the',\n",
       "  'pulley',\n",
       "  ';'],\n",
       " 4.0,\n",
       " 0.9995357990264893)"
      ]
     },
     "execution_count": 14,
     "metadata": {},
     "output_type": "execute_result"
    }
   ],
   "source": [
    "candidates_dict[0][9][1]"
   ]
  }
 ],
 "metadata": {
  "kernelspec": {
   "display_name": "Python [conda env:occlusion]",
   "language": "python",
   "name": "conda-env-occlusion-py"
  },
  "language_info": {
   "codemirror_mode": {
    "name": "ipython",
    "version": 3
   },
   "file_extension": ".py",
   "mimetype": "text/x-python",
   "name": "python",
   "nbconvert_exporter": "python",
   "pygments_lexer": "ipython3",
   "version": "3.7.6"
  }
 },
 "nbformat": 4,
 "nbformat_minor": 4
}
